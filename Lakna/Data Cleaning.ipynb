{
 "cells": [
  {
   "cell_type": "markdown",
   "id": "c3059440-757f-48da-9d12-c34bdb71980f",
   "metadata": {},
   "source": [
    "# WHO Data Set"
   ]
  },
  {
   "cell_type": "code",
   "execution_count": null,
   "id": "4bce7c35-fff6-47bc-b95f-58f5727e797e",
   "metadata": {
    "tags": []
   },
   "outputs": [],
   "source": [
    "#import WHO dataset\n",
    "import pandas as pd\n",
    "WHO_df = pd.read_csv('WHO_Data/WHOMortalityDatabase_Map_a. Malignant skin melanoma_19th December 2023 23 17.csv', skiprows = 5, index_col=False)\n",
    "WHO_df.head()"
   ]
  },
  {
   "cell_type": "code",
   "execution_count": null,
   "id": "62da2e04-0f3e-4577-8de2-021197fe38ea",
   "metadata": {
    "tags": []
   },
   "outputs": [],
   "source": [
    "WHO_df.columns"
   ]
  },
  {
   "cell_type": "code",
   "execution_count": null,
   "id": "289b034c-073f-4f90-97df-68425f7fa391",
   "metadata": {
    "tags": []
   },
   "outputs": [],
   "source": [
    "#data type for each column\n",
    "WHO_df.dtypes"
   ]
  },
  {
   "cell_type": "code",
   "execution_count": null,
   "id": "5da83910-2c84-4982-a410-49e3091c93d5",
   "metadata": {
    "tags": []
   },
   "outputs": [],
   "source": [
    "#check for null values\n",
    "WHO_df.count()"
   ]
  },
  {
   "cell_type": "code",
   "execution_count": null,
   "id": "dabcd5fc-297c-4a74-963c-0b55854fd6cf",
   "metadata": {
    "tags": []
   },
   "outputs": [],
   "source": [
    "#list columns with null values\n",
    "WHO_df.columns[WHO_df.isna().any()].tolist()"
   ]
  },
  {
   "cell_type": "code",
   "execution_count": null,
   "id": "3d1c7488-fd8f-4faa-9ab4-d111f40672b8",
   "metadata": {
    "tags": []
   },
   "outputs": [],
   "source": [
    "WHO_df.loc[:, WHO_df.isna().any()]"
   ]
  },
  {
   "cell_type": "code",
   "execution_count": null,
   "id": "63582de9-b226-4568-9647-099bbb81c0b8",
   "metadata": {
    "tags": []
   },
   "outputs": [],
   "source": [
    "#drop column include null values\n",
    "WHO_df.dropna(subset = ['Number', 'Percentage of cause-specific deaths out of total deaths', 'Death rate per 100 000 population'], inplace=True)"
   ]
  },
  {
   "cell_type": "code",
   "execution_count": null,
   "id": "eac7d7ce-4e71-41ec-9c7a-764fd76a99c8",
   "metadata": {
    "tags": []
   },
   "outputs": [],
   "source": [
    "#conform whether null values are drop\n",
    "WHO_df.count()"
   ]
  },
  {
   "cell_type": "code",
   "execution_count": null,
   "id": "4aa2fcd9-b906-4e23-bc39-5e265cd44e7a",
   "metadata": {
    "tags": []
   },
   "outputs": [],
   "source": [
    "#check unique countries\n",
    "WHO_df[\"Country Name\"].unique().tolist()"
   ]
  },
  {
   "cell_type": "code",
   "execution_count": null,
   "id": "78d79079-1f67-47f7-ae53-bc3674be5587",
   "metadata": {
    "tags": []
   },
   "outputs": [],
   "source": [
    "#replace \"T?rkiye\" with Turkey\n",
    "WHO_df = WHO_df.replace(\"T?rkiye\", \"Turkey\")\n",
    "WHO_df[\"Country Name\"].unique().tolist()"
   ]
  },
  {
   "cell_type": "code",
   "execution_count": null,
   "id": "35899b85-0678-40a8-b210-8fde42009fba",
   "metadata": {
    "tags": []
   },
   "outputs": [],
   "source": [
    "# #remove square bracket from \"age group\" column\n",
    "# WHO_df['Age Group'] = WHO_df['Age Group'].str.strip('[]')\n",
    "# WHO_df.head()"
   ]
  },
  {
   "cell_type": "code",
   "execution_count": null,
   "id": "52d30f71-67ad-430e-b865-cb660d0166bb",
   "metadata": {
    "tags": []
   },
   "outputs": [],
   "source": [
    "WHO_df['Age group code'] = WHO_df['Age group code'].str.replace('Age','')\n",
    "WHO_df['Age group code'] = WHO_df['Age group code'].str.replace('_all','Age all')\n",
    "WHO_df.head()"
   ]
  },
  {
   "cell_type": "code",
   "execution_count": null,
   "id": "84f4e9c0-4a78-45d8-8887-bb4c0d72957c",
   "metadata": {
    "tags": []
   },
   "outputs": [],
   "source": [
    "# #drop \"age group code\" column\n",
    "del WHO_df['Age Group']\n",
    "WHO_df.head()"
   ]
  },
  {
   "cell_type": "code",
   "execution_count": null,
   "id": "7e0c86e6-e62a-4bac-8b63-44878f3e2268",
   "metadata": {
    "tags": []
   },
   "outputs": [],
   "source": [
    "# #export csv\n",
    "WHO_df.to_csv('Cleaned Datasets/WHO_df.csv')"
   ]
  },
  {
   "cell_type": "code",
   "execution_count": null,
   "id": "f8de9606-d882-4e82-b2a6-11f19cbe6d87",
   "metadata": {},
   "outputs": [],
   "source": []
  },
  {
   "cell_type": "markdown",
   "id": "c47ffd06-6049-4cfe-8279-1b6c793db8f0",
   "metadata": {},
   "source": [
    "# AIHW Datset\n",
    "## Cancer incidence counts and age-standardised rates, by sex and state and territory, 1982 to 2019"
   ]
  },
  {
   "cell_type": "code",
   "execution_count": 2,
   "id": "8cf75472-2800-41e5-8c84-448ffd9124a6",
   "metadata": {
    "tags": []
   },
   "outputs": [
    {
     "data": {
      "text/html": [
       "<div>\n",
       "<style scoped>\n",
       "    .dataframe tbody tr th:only-of-type {\n",
       "        vertical-align: middle;\n",
       "    }\n",
       "\n",
       "    .dataframe tbody tr th {\n",
       "        vertical-align: top;\n",
       "    }\n",
       "\n",
       "    .dataframe thead th {\n",
       "        text-align: right;\n",
       "    }\n",
       "</style>\n",
       "<table border=\"1\" class=\"dataframe\">\n",
       "  <thead>\n",
       "    <tr style=\"text-align: right;\">\n",
       "      <th></th>\n",
       "      <th>Data type</th>\n",
       "      <th>Cancer group/site</th>\n",
       "      <th>Year</th>\n",
       "      <th>Sex</th>\n",
       "      <th>State or Territory</th>\n",
       "      <th>Count</th>\n",
       "      <th>Age-standardised rate\\n2001 Australian Standard Population \\n(per 100,000)</th>\n",
       "      <th>Age-standardised rate\\n2023 Australian population \\n(per 100,000)</th>\n",
       "      <th>Unnamed: 8</th>\n",
       "      <th>ICD-10 codes</th>\n",
       "    </tr>\n",
       "  </thead>\n",
       "  <tbody>\n",
       "    <tr>\n",
       "      <th>0</th>\n",
       "      <td>Incidence</td>\n",
       "      <td>Acute lymphoblastic leukaemia</td>\n",
       "      <td>1982.0</td>\n",
       "      <td>Males</td>\n",
       "      <td>New South Wales</td>\n",
       "      <td>54</td>\n",
       "      <td>1.9</td>\n",
       "      <td>1.8</td>\n",
       "      <td></td>\n",
       "      <td>C91.0</td>\n",
       "    </tr>\n",
       "    <tr>\n",
       "      <th>1</th>\n",
       "      <td>Incidence</td>\n",
       "      <td>Acute lymphoblastic leukaemia</td>\n",
       "      <td>1982.0</td>\n",
       "      <td>Males</td>\n",
       "      <td>Victoria</td>\n",
       "      <td>31</td>\n",
       "      <td>1.4</td>\n",
       "      <td>1.4</td>\n",
       "      <td></td>\n",
       "      <td>C91.0</td>\n",
       "    </tr>\n",
       "    <tr>\n",
       "      <th>2</th>\n",
       "      <td>Incidence</td>\n",
       "      <td>Acute lymphoblastic leukaemia</td>\n",
       "      <td>1982.0</td>\n",
       "      <td>Males</td>\n",
       "      <td>Queensland</td>\n",
       "      <td>20</td>\n",
       "      <td>1.4</td>\n",
       "      <td>1.3</td>\n",
       "      <td></td>\n",
       "      <td>C91.0</td>\n",
       "    </tr>\n",
       "    <tr>\n",
       "      <th>3</th>\n",
       "      <td>Incidence</td>\n",
       "      <td>Acute lymphoblastic leukaemia</td>\n",
       "      <td>1982.0</td>\n",
       "      <td>Males</td>\n",
       "      <td>Western Australia</td>\n",
       "      <td>4</td>\n",
       "      <td>n.p.</td>\n",
       "      <td>n.p.</td>\n",
       "      <td></td>\n",
       "      <td>C91.0</td>\n",
       "    </tr>\n",
       "    <tr>\n",
       "      <th>4</th>\n",
       "      <td>Incidence</td>\n",
       "      <td>Acute lymphoblastic leukaemia</td>\n",
       "      <td>1982.0</td>\n",
       "      <td>Males</td>\n",
       "      <td>South Australia</td>\n",
       "      <td>17</td>\n",
       "      <td>2.4</td>\n",
       "      <td>2.5</td>\n",
       "      <td></td>\n",
       "      <td>C91.0</td>\n",
       "    </tr>\n",
       "  </tbody>\n",
       "</table>\n",
       "</div>"
      ],
      "text/plain": [
       "   Data type              Cancer group/site    Year    Sex State or Territory  \\\n",
       "0  Incidence  Acute lymphoblastic leukaemia  1982.0  Males    New South Wales   \n",
       "1  Incidence  Acute lymphoblastic leukaemia  1982.0  Males           Victoria   \n",
       "2  Incidence  Acute lymphoblastic leukaemia  1982.0  Males         Queensland   \n",
       "3  Incidence  Acute lymphoblastic leukaemia  1982.0  Males  Western Australia   \n",
       "4  Incidence  Acute lymphoblastic leukaemia  1982.0  Males    South Australia   \n",
       "\n",
       "  Count  \\\n",
       "0    54   \n",
       "1    31   \n",
       "2    20   \n",
       "3     4   \n",
       "4    17   \n",
       "\n",
       "  Age-standardised rate\\n2001 Australian Standard Population \\n(per 100,000)  \\\n",
       "0                                                1.9                           \n",
       "1                                                1.4                           \n",
       "2                                                1.4                           \n",
       "3                                               n.p.                           \n",
       "4                                                2.4                           \n",
       "\n",
       "  Age-standardised rate\\n2023 Australian population \\n(per 100,000)  \\\n",
       "0                                                1.8                  \n",
       "1                                                1.4                  \n",
       "2                                                1.3                  \n",
       "3                                               n.p.                  \n",
       "4                                                2.5                  \n",
       "\n",
       "  Unnamed: 8 ICD-10 codes  \n",
       "0                   C91.0  \n",
       "1                   C91.0  \n",
       "2                   C91.0  \n",
       "3                   C91.0  \n",
       "4                   C91.0  "
      ]
     },
     "execution_count": 2,
     "metadata": {},
     "output_type": "execute_result"
    }
   ],
   "source": [
    "#import AIHW dataset\n",
    "import pandas as pd\n",
    "excel_file_path ='AIHW_Data/aihw-can-122-CDiA-2023-Book-7-Cancer-incidence-by-state-and-territory.xlsx'\n",
    "sheet_name = 'Table S7.1'\n",
    "AIHW_df = pd.read_excel(excel_file_path, sheet_name=sheet_name, skiprows=5)\n",
    "AIHW_df.head()"
   ]
  },
  {
   "cell_type": "code",
   "execution_count": 3,
   "id": "c0e006fc-8714-4684-ba2c-3897b05f7409",
   "metadata": {
    "tags": []
   },
   "outputs": [
    {
     "data": {
      "text/html": [
       "<div>\n",
       "<style scoped>\n",
       "    .dataframe tbody tr th:only-of-type {\n",
       "        vertical-align: middle;\n",
       "    }\n",
       "\n",
       "    .dataframe tbody tr th {\n",
       "        vertical-align: top;\n",
       "    }\n",
       "\n",
       "    .dataframe thead th {\n",
       "        text-align: right;\n",
       "    }\n",
       "</style>\n",
       "<table border=\"1\" class=\"dataframe\">\n",
       "  <thead>\n",
       "    <tr style=\"text-align: right;\">\n",
       "      <th></th>\n",
       "      <th>Data type</th>\n",
       "      <th>Cancer group/site</th>\n",
       "      <th>Year</th>\n",
       "      <th>Sex</th>\n",
       "      <th>State or Territory</th>\n",
       "      <th>Count</th>\n",
       "      <th>Age-standardised rate\\n2001 Australian Standard Population \\n(per 100,000)</th>\n",
       "      <th>Age-standardised rate\\n2023 Australian population \\n(per 100,000)</th>\n",
       "      <th>Unnamed: 8</th>\n",
       "      <th>ICD-10 codes</th>\n",
       "    </tr>\n",
       "  </thead>\n",
       "  <tbody>\n",
       "    <tr>\n",
       "      <th>0</th>\n",
       "      <td>Incidence</td>\n",
       "      <td>Melanoma of the skin</td>\n",
       "      <td>1982.0</td>\n",
       "      <td>Males</td>\n",
       "      <td>New South Wales</td>\n",
       "      <td>650</td>\n",
       "      <td>28.9</td>\n",
       "      <td>33.1</td>\n",
       "      <td></td>\n",
       "      <td>C43</td>\n",
       "    </tr>\n",
       "    <tr>\n",
       "      <th>1</th>\n",
       "      <td>Incidence</td>\n",
       "      <td>Melanoma of the skin</td>\n",
       "      <td>1982.0</td>\n",
       "      <td>Males</td>\n",
       "      <td>Victoria</td>\n",
       "      <td>279</td>\n",
       "      <td>16.8</td>\n",
       "      <td>19.2</td>\n",
       "      <td></td>\n",
       "      <td>C43</td>\n",
       "    </tr>\n",
       "    <tr>\n",
       "      <th>2</th>\n",
       "      <td>Incidence</td>\n",
       "      <td>Melanoma of the skin</td>\n",
       "      <td>1982.0</td>\n",
       "      <td>Males</td>\n",
       "      <td>Queensland</td>\n",
       "      <td>472</td>\n",
       "      <td>49.3</td>\n",
       "      <td>56.9</td>\n",
       "      <td></td>\n",
       "      <td>C43</td>\n",
       "    </tr>\n",
       "    <tr>\n",
       "      <th>3</th>\n",
       "      <td>Incidence</td>\n",
       "      <td>Melanoma of the skin</td>\n",
       "      <td>1982.0</td>\n",
       "      <td>Males</td>\n",
       "      <td>Western Australia</td>\n",
       "      <td>164</td>\n",
       "      <td>31.1</td>\n",
       "      <td>35.6</td>\n",
       "      <td></td>\n",
       "      <td>C43</td>\n",
       "    </tr>\n",
       "    <tr>\n",
       "      <th>4</th>\n",
       "      <td>Incidence</td>\n",
       "      <td>Melanoma of the skin</td>\n",
       "      <td>1982.0</td>\n",
       "      <td>Males</td>\n",
       "      <td>South Australia</td>\n",
       "      <td>121</td>\n",
       "      <td>21.4</td>\n",
       "      <td>23.1</td>\n",
       "      <td></td>\n",
       "      <td>C43</td>\n",
       "    </tr>\n",
       "  </tbody>\n",
       "</table>\n",
       "</div>"
      ],
      "text/plain": [
       "   Data type     Cancer group/site    Year    Sex State or Territory Count  \\\n",
       "0  Incidence  Melanoma of the skin  1982.0  Males    New South Wales   650   \n",
       "1  Incidence  Melanoma of the skin  1982.0  Males           Victoria   279   \n",
       "2  Incidence  Melanoma of the skin  1982.0  Males         Queensland   472   \n",
       "3  Incidence  Melanoma of the skin  1982.0  Males  Western Australia   164   \n",
       "4  Incidence  Melanoma of the skin  1982.0  Males    South Australia   121   \n",
       "\n",
       "  Age-standardised rate\\n2001 Australian Standard Population \\n(per 100,000)  \\\n",
       "0                                               28.9                           \n",
       "1                                               16.8                           \n",
       "2                                               49.3                           \n",
       "3                                               31.1                           \n",
       "4                                               21.4                           \n",
       "\n",
       "  Age-standardised rate\\n2023 Australian population \\n(per 100,000)  \\\n",
       "0                                               33.1                  \n",
       "1                                               19.2                  \n",
       "2                                               56.9                  \n",
       "3                                               35.6                  \n",
       "4                                               23.1                  \n",
       "\n",
       "  Unnamed: 8 ICD-10 codes  \n",
       "0                     C43  \n",
       "1                     C43  \n",
       "2                     C43  \n",
       "3                     C43  \n",
       "4                     C43  "
      ]
     },
     "execution_count": 3,
     "metadata": {},
     "output_type": "execute_result"
    }
   ],
   "source": [
    "AIHW_df = AIHW_df[AIHW_df['Cancer group/site'].isin(['Melanoma of the skin', 'Non-melanoma skin cancer (rare types)'])]\n",
    "AIHW_df = AIHW_df.reset_index(drop=True)\n",
    "AIHW_df.head()"
   ]
  },
  {
   "cell_type": "code",
   "execution_count": 4,
   "id": "b90da02e-6316-412c-8b4c-d40dba75f7ee",
   "metadata": {
    "tags": []
   },
   "outputs": [
    {
     "data": {
      "text/plain": [
       "(1539, 10)"
      ]
     },
     "execution_count": 4,
     "metadata": {},
     "output_type": "execute_result"
    }
   ],
   "source": [
    "AIHW_df.shape"
   ]
  },
  {
   "cell_type": "code",
   "execution_count": 5,
   "id": "12089d61-05c0-4d3d-9a9f-3128d4595fd3",
   "metadata": {
    "tags": []
   },
   "outputs": [
    {
     "data": {
      "text/plain": [
       "Data type                                                                     1539\n",
       "Cancer group/site                                                             1539\n",
       "Year                                                                          1539\n",
       "Sex                                                                           1539\n",
       "State or Territory                                                            1539\n",
       "Count                                                                         1539\n",
       "Age-standardised rate\\n2001 Australian Standard Population \\n(per 100,000)    1539\n",
       "Age-standardised rate\\n2023 Australian population \\n(per 100,000)             1539\n",
       "Unnamed: 8                                                                    1539\n",
       "ICD-10 codes                                                                  1539\n",
       "dtype: int64"
      ]
     },
     "execution_count": 5,
     "metadata": {},
     "output_type": "execute_result"
    }
   ],
   "source": [
    "#check for null values\n",
    "AIHW_df.count()"
   ]
  },
  {
   "cell_type": "code",
   "execution_count": 6,
   "id": "16dbbbbe-be46-4520-b22d-fa34ebde27d5",
   "metadata": {
    "tags": []
   },
   "outputs": [],
   "source": [
    "#import csv\n",
    "AIHW_df.to_csv('Cleaned Datasets/AIHW_df.csv')"
   ]
  },
  {
   "cell_type": "code",
   "execution_count": null,
   "id": "1448b28e-079e-4522-9a69-a0dbd4dc7170",
   "metadata": {},
   "outputs": [],
   "source": []
  }
 ],
 "metadata": {
  "kernelspec": {
   "display_name": "Python 3 (ipykernel)",
   "language": "python",
   "name": "python3"
  },
  "language_info": {
   "codemirror_mode": {
    "name": "ipython",
    "version": 3
   },
   "file_extension": ".py",
   "mimetype": "text/x-python",
   "name": "python",
   "nbconvert_exporter": "python",
   "pygments_lexer": "ipython3",
   "version": "3.11.4"
  }
 },
 "nbformat": 4,
 "nbformat_minor": 5
}
