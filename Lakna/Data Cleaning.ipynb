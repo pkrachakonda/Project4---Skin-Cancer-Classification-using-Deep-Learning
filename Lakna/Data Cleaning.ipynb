{
 "cells": [
  {
   "cell_type": "markdown",
   "id": "c3059440-757f-48da-9d12-c34bdb71980f",
   "metadata": {},
   "source": [
    "# WHO Data Set"
   ]
  },
  {
   "cell_type": "code",
   "execution_count": 26,
   "id": "4bce7c35-fff6-47bc-b95f-58f5727e797e",
   "metadata": {
    "tags": []
   },
   "outputs": [
    {
     "data": {
      "text/html": [
       "<div>\n",
       "<style scoped>\n",
       "    .dataframe tbody tr th:only-of-type {\n",
       "        vertical-align: middle;\n",
       "    }\n",
       "\n",
       "    .dataframe tbody tr th {\n",
       "        vertical-align: top;\n",
       "    }\n",
       "\n",
       "    .dataframe thead th {\n",
       "        text-align: right;\n",
       "    }\n",
       "</style>\n",
       "<table border=\"1\" class=\"dataframe\">\n",
       "  <thead>\n",
       "    <tr style=\"text-align: right;\">\n",
       "      <th></th>\n",
       "      <th>Region Code</th>\n",
       "      <th>Region Name</th>\n",
       "      <th>Country Code</th>\n",
       "      <th>Country Name</th>\n",
       "      <th>Year</th>\n",
       "      <th>Sex</th>\n",
       "      <th>Age group code</th>\n",
       "      <th>Age Group</th>\n",
       "      <th>Number</th>\n",
       "      <th>Percentage of cause-specific deaths out of total deaths</th>\n",
       "      <th>Age-standardized death rate per 100 000 standard population</th>\n",
       "      <th>Death rate per 100 000 population</th>\n",
       "    </tr>\n",
       "  </thead>\n",
       "  <tbody>\n",
       "    <tr>\n",
       "      <th>0</th>\n",
       "      <td>EU</td>\n",
       "      <td>Europe</td>\n",
       "      <td>ALB</td>\n",
       "      <td>Albania</td>\n",
       "      <td>1987</td>\n",
       "      <td>All</td>\n",
       "      <td>Age_all</td>\n",
       "      <td>[All]</td>\n",
       "      <td>22.0</td>\n",
       "      <td>0.126977</td>\n",
       "      <td>1.036609</td>\n",
       "      <td>0.715191</td>\n",
       "    </tr>\n",
       "    <tr>\n",
       "      <th>1</th>\n",
       "      <td>EU</td>\n",
       "      <td>Europe</td>\n",
       "      <td>ALB</td>\n",
       "      <td>Albania</td>\n",
       "      <td>1987</td>\n",
       "      <td>All</td>\n",
       "      <td>Age00</td>\n",
       "      <td>[0]</td>\n",
       "      <td>0.0</td>\n",
       "      <td>0.000000</td>\n",
       "      <td>NaN</td>\n",
       "      <td>0.000000</td>\n",
       "    </tr>\n",
       "    <tr>\n",
       "      <th>2</th>\n",
       "      <td>EU</td>\n",
       "      <td>Europe</td>\n",
       "      <td>ALB</td>\n",
       "      <td>Albania</td>\n",
       "      <td>1987</td>\n",
       "      <td>All</td>\n",
       "      <td>Age01_04</td>\n",
       "      <td>[1-4]</td>\n",
       "      <td>0.0</td>\n",
       "      <td>0.000000</td>\n",
       "      <td>NaN</td>\n",
       "      <td>0.000000</td>\n",
       "    </tr>\n",
       "    <tr>\n",
       "      <th>3</th>\n",
       "      <td>EU</td>\n",
       "      <td>Europe</td>\n",
       "      <td>ALB</td>\n",
       "      <td>Albania</td>\n",
       "      <td>1987</td>\n",
       "      <td>All</td>\n",
       "      <td>Age05_09</td>\n",
       "      <td>[5-9]</td>\n",
       "      <td>0.0</td>\n",
       "      <td>0.000000</td>\n",
       "      <td>NaN</td>\n",
       "      <td>0.000000</td>\n",
       "    </tr>\n",
       "    <tr>\n",
       "      <th>4</th>\n",
       "      <td>EU</td>\n",
       "      <td>Europe</td>\n",
       "      <td>ALB</td>\n",
       "      <td>Albania</td>\n",
       "      <td>1987</td>\n",
       "      <td>All</td>\n",
       "      <td>Age10_14</td>\n",
       "      <td>[10-14]</td>\n",
       "      <td>0.0</td>\n",
       "      <td>0.000000</td>\n",
       "      <td>NaN</td>\n",
       "      <td>0.000000</td>\n",
       "    </tr>\n",
       "  </tbody>\n",
       "</table>\n",
       "</div>"
      ],
      "text/plain": [
       "  Region Code Region Name Country Code Country Name  Year  Sex Age group code  \\\n",
       "0          EU      Europe          ALB      Albania  1987  All        Age_all   \n",
       "1          EU      Europe          ALB      Albania  1987  All          Age00   \n",
       "2          EU      Europe          ALB      Albania  1987  All       Age01_04   \n",
       "3          EU      Europe          ALB      Albania  1987  All       Age05_09   \n",
       "4          EU      Europe          ALB      Albania  1987  All       Age10_14   \n",
       "\n",
       "  Age Group  Number  Percentage of cause-specific deaths out of total deaths  \\\n",
       "0     [All]    22.0                                           0.126977         \n",
       "1       [0]     0.0                                           0.000000         \n",
       "2     [1-4]     0.0                                           0.000000         \n",
       "3     [5-9]     0.0                                           0.000000         \n",
       "4   [10-14]     0.0                                           0.000000         \n",
       "\n",
       "   Age-standardized death rate per 100 000 standard population  \\\n",
       "0                                           1.036609             \n",
       "1                                                NaN             \n",
       "2                                                NaN             \n",
       "3                                                NaN             \n",
       "4                                                NaN             \n",
       "\n",
       "   Death rate per 100 000 population  \n",
       "0                           0.715191  \n",
       "1                           0.000000  \n",
       "2                           0.000000  \n",
       "3                           0.000000  \n",
       "4                           0.000000  "
      ]
     },
     "execution_count": 26,
     "metadata": {},
     "output_type": "execute_result"
    }
   ],
   "source": [
    "#import WHO dataset\n",
    "import pandas as pd\n",
    "WHO_df = pd.read_csv('WHO_Data/WHOMortalityDatabase_Map_a. Malignant skin melanoma_19th December 2023 23 17.csv', skiprows = 5, index_col=False)\n",
    "# headers = [\"Region Code\", \"Region Name\", \"Country Code\", \"Country Name\", \"Year\", \"Sex\", \"Age group code\", \"Age Group\", \"Number\", \"Percentage of cause-specific deaths out of total deaths\", \n",
    "#            \"Age-standardized death rate per 100 000 standard population\", \"Death rate per 100 000 population\"]\n",
    "WHO_df.head()"
   ]
  },
  {
   "cell_type": "code",
   "execution_count": 28,
   "id": "62da2e04-0f3e-4577-8de2-021197fe38ea",
   "metadata": {
    "tags": []
   },
   "outputs": [
    {
     "data": {
      "text/plain": [
       "Index(['Region Code', 'Region Name', 'Country Code', 'Country Name', 'Year',\n",
       "       'Sex', 'Age group code', 'Age Group', 'Number',\n",
       "       'Percentage of cause-specific deaths out of total deaths',\n",
       "       'Age-standardized death rate per 100 000 standard population',\n",
       "       'Death rate per 100 000 population'],\n",
       "      dtype='object')"
      ]
     },
     "execution_count": 28,
     "metadata": {},
     "output_type": "execute_result"
    }
   ],
   "source": [
    "WHO_df.columns"
   ]
  },
  {
   "cell_type": "code",
   "execution_count": 29,
   "id": "289b034c-073f-4f90-97df-68425f7fa391",
   "metadata": {
    "tags": []
   },
   "outputs": [
    {
     "data": {
      "text/plain": [
       "Region Code                                                     object\n",
       "Region Name                                                     object\n",
       "Country Code                                                    object\n",
       "Country Name                                                    object\n",
       "Year                                                             int64\n",
       "Sex                                                             object\n",
       "Age group code                                                  object\n",
       "Age Group                                                       object\n",
       "Number                                                         float64\n",
       "Percentage of cause-specific deaths out of total deaths        float64\n",
       "Age-standardized death rate per 100 000 standard population    float64\n",
       "Death rate per 100 000 population                              float64\n",
       "dtype: object"
      ]
     },
     "execution_count": 29,
     "metadata": {},
     "output_type": "execute_result"
    }
   ],
   "source": [
    "#data type for each column\n",
    "WHO_df.dtypes"
   ]
  },
  {
   "cell_type": "code",
   "execution_count": 30,
   "id": "5da83910-2c84-4982-a410-49e3091c93d5",
   "metadata": {
    "tags": []
   },
   "outputs": [
    {
     "data": {
      "text/plain": [
       "Region Code                                                    183036\n",
       "Region Name                                                    183036\n",
       "Country Code                                                   183036\n",
       "Country Name                                                   183036\n",
       "Year                                                           183036\n",
       "Sex                                                            183036\n",
       "Age group code                                                 183036\n",
       "Age Group                                                      183036\n",
       "Number                                                         182340\n",
       "Percentage of cause-specific deaths out of total deaths        177031\n",
       "Age-standardized death rate per 100 000 standard population      8580\n",
       "Death rate per 100 000 population                              170424\n",
       "dtype: int64"
      ]
     },
     "execution_count": 30,
     "metadata": {},
     "output_type": "execute_result"
    }
   ],
   "source": [
    "#check for null values\n",
    "WHO_df.count()"
   ]
  },
  {
   "cell_type": "code",
   "execution_count": 32,
   "id": "dabcd5fc-297c-4a74-963c-0b55854fd6cf",
   "metadata": {
    "tags": []
   },
   "outputs": [
    {
     "data": {
      "text/plain": [
       "['Number',\n",
       " 'Percentage of cause-specific deaths out of total deaths',\n",
       " 'Age-standardized death rate per 100 000 standard population',\n",
       " 'Death rate per 100 000 population']"
      ]
     },
     "execution_count": 32,
     "metadata": {},
     "output_type": "execute_result"
    }
   ],
   "source": [
    "#list columns with null values\n",
    "WHO_df.columns[WHO_df.isna().any()].tolist()"
   ]
  },
  {
   "cell_type": "code",
   "execution_count": 33,
   "id": "3d1c7488-fd8f-4faa-9ab4-d111f40672b8",
   "metadata": {
    "tags": []
   },
   "outputs": [
    {
     "data": {
      "text/html": [
       "<div>\n",
       "<style scoped>\n",
       "    .dataframe tbody tr th:only-of-type {\n",
       "        vertical-align: middle;\n",
       "    }\n",
       "\n",
       "    .dataframe tbody tr th {\n",
       "        vertical-align: top;\n",
       "    }\n",
       "\n",
       "    .dataframe thead th {\n",
       "        text-align: right;\n",
       "    }\n",
       "</style>\n",
       "<table border=\"1\" class=\"dataframe\">\n",
       "  <thead>\n",
       "    <tr style=\"text-align: right;\">\n",
       "      <th></th>\n",
       "      <th>Number</th>\n",
       "      <th>Percentage of cause-specific deaths out of total deaths</th>\n",
       "      <th>Age-standardized death rate per 100 000 standard population</th>\n",
       "      <th>Death rate per 100 000 population</th>\n",
       "    </tr>\n",
       "  </thead>\n",
       "  <tbody>\n",
       "    <tr>\n",
       "      <th>0</th>\n",
       "      <td>22.0</td>\n",
       "      <td>0.126977</td>\n",
       "      <td>1.036609</td>\n",
       "      <td>0.715191</td>\n",
       "    </tr>\n",
       "    <tr>\n",
       "      <th>1</th>\n",
       "      <td>0.0</td>\n",
       "      <td>0.000000</td>\n",
       "      <td>NaN</td>\n",
       "      <td>0.000000</td>\n",
       "    </tr>\n",
       "    <tr>\n",
       "      <th>2</th>\n",
       "      <td>0.0</td>\n",
       "      <td>0.000000</td>\n",
       "      <td>NaN</td>\n",
       "      <td>0.000000</td>\n",
       "    </tr>\n",
       "    <tr>\n",
       "      <th>3</th>\n",
       "      <td>0.0</td>\n",
       "      <td>0.000000</td>\n",
       "      <td>NaN</td>\n",
       "      <td>0.000000</td>\n",
       "    </tr>\n",
       "    <tr>\n",
       "      <th>4</th>\n",
       "      <td>0.0</td>\n",
       "      <td>0.000000</td>\n",
       "      <td>NaN</td>\n",
       "      <td>0.000000</td>\n",
       "    </tr>\n",
       "    <tr>\n",
       "      <th>...</th>\n",
       "      <td>...</td>\n",
       "      <td>...</td>\n",
       "      <td>...</td>\n",
       "      <td>...</td>\n",
       "    </tr>\n",
       "    <tr>\n",
       "      <th>183031</th>\n",
       "      <td>16.0</td>\n",
       "      <td>0.102512</td>\n",
       "      <td>NaN</td>\n",
       "      <td>3.340592</td>\n",
       "    </tr>\n",
       "    <tr>\n",
       "      <th>183032</th>\n",
       "      <td>13.0</td>\n",
       "      <td>0.074269</td>\n",
       "      <td>NaN</td>\n",
       "      <td>4.044804</td>\n",
       "    </tr>\n",
       "    <tr>\n",
       "      <th>183033</th>\n",
       "      <td>16.0</td>\n",
       "      <td>0.100288</td>\n",
       "      <td>NaN</td>\n",
       "      <td>9.174312</td>\n",
       "    </tr>\n",
       "    <tr>\n",
       "      <th>183034</th>\n",
       "      <td>20.0</td>\n",
       "      <td>0.078052</td>\n",
       "      <td>NaN</td>\n",
       "      <td>27.331365</td>\n",
       "    </tr>\n",
       "    <tr>\n",
       "      <th>183035</th>\n",
       "      <td>0.0</td>\n",
       "      <td>0.000000</td>\n",
       "      <td>NaN</td>\n",
       "      <td>NaN</td>\n",
       "    </tr>\n",
       "  </tbody>\n",
       "</table>\n",
       "<p>183036 rows × 4 columns</p>\n",
       "</div>"
      ],
      "text/plain": [
       "        Number  Percentage of cause-specific deaths out of total deaths  \\\n",
       "0         22.0                                           0.126977         \n",
       "1          0.0                                           0.000000         \n",
       "2          0.0                                           0.000000         \n",
       "3          0.0                                           0.000000         \n",
       "4          0.0                                           0.000000         \n",
       "...        ...                                                ...         \n",
       "183031    16.0                                           0.102512         \n",
       "183032    13.0                                           0.074269         \n",
       "183033    16.0                                           0.100288         \n",
       "183034    20.0                                           0.078052         \n",
       "183035     0.0                                           0.000000         \n",
       "\n",
       "        Age-standardized death rate per 100 000 standard population  \\\n",
       "0                                                1.036609             \n",
       "1                                                     NaN             \n",
       "2                                                     NaN             \n",
       "3                                                     NaN             \n",
       "4                                                     NaN             \n",
       "...                                                   ...             \n",
       "183031                                                NaN             \n",
       "183032                                                NaN             \n",
       "183033                                                NaN             \n",
       "183034                                                NaN             \n",
       "183035                                                NaN             \n",
       "\n",
       "        Death rate per 100 000 population  \n",
       "0                                0.715191  \n",
       "1                                0.000000  \n",
       "2                                0.000000  \n",
       "3                                0.000000  \n",
       "4                                0.000000  \n",
       "...                                   ...  \n",
       "183031                           3.340592  \n",
       "183032                           4.044804  \n",
       "183033                           9.174312  \n",
       "183034                          27.331365  \n",
       "183035                                NaN  \n",
       "\n",
       "[183036 rows x 4 columns]"
      ]
     },
     "execution_count": 33,
     "metadata": {},
     "output_type": "execute_result"
    }
   ],
   "source": [
    "WHO_df.loc[:, WHO_df.isna().any()]"
   ]
  },
  {
   "cell_type": "code",
   "execution_count": 34,
   "id": "63582de9-b226-4568-9647-099bbb81c0b8",
   "metadata": {
    "tags": []
   },
   "outputs": [],
   "source": [
    "#drop column include null values\n",
    "WHO_df.dropna(subset = ['Number', 'Percentage of cause-specific deaths out of total deaths', 'Death rate per 100 000 population'], inplace=True)"
   ]
  },
  {
   "cell_type": "code",
   "execution_count": 35,
   "id": "eac7d7ce-4e71-41ec-9c7a-764fd76a99c8",
   "metadata": {
    "tags": []
   },
   "outputs": [
    {
     "data": {
      "text/plain": [
       "Region Code                                                    170156\n",
       "Region Name                                                    170156\n",
       "Country Code                                                   170156\n",
       "Country Name                                                   170156\n",
       "Year                                                           170156\n",
       "Sex                                                            170156\n",
       "Age group code                                                 170156\n",
       "Age Group                                                      170156\n",
       "Number                                                         170156\n",
       "Percentage of cause-specific deaths out of total deaths        170156\n",
       "Age-standardized death rate per 100 000 standard population      8580\n",
       "Death rate per 100 000 population                              170156\n",
       "dtype: int64"
      ]
     },
     "execution_count": 35,
     "metadata": {},
     "output_type": "execute_result"
    }
   ],
   "source": [
    "#conform whether null values are drop\n",
    "WHO_df.count()"
   ]
  },
  {
   "cell_type": "code",
   "execution_count": 39,
   "id": "7e0c86e6-e62a-4bac-8b63-44878f3e2268",
   "metadata": {
    "tags": []
   },
   "outputs": [],
   "source": [
    "#export csv\n",
    "WHO_df.to_csv('Cleaned Datasets/WHO_df.csv')"
   ]
  },
  {
   "cell_type": "code",
   "execution_count": null,
   "id": "f8de9606-d882-4e82-b2a6-11f19cbe6d87",
   "metadata": {},
   "outputs": [],
   "source": []
  }
 ],
 "metadata": {
  "kernelspec": {
   "display_name": "Python 3 (ipykernel)",
   "language": "python",
   "name": "python3"
  },
  "language_info": {
   "codemirror_mode": {
    "name": "ipython",
    "version": 3
   },
   "file_extension": ".py",
   "mimetype": "text/x-python",
   "name": "python",
   "nbconvert_exporter": "python",
   "pygments_lexer": "ipython3",
   "version": "3.11.4"
  }
 },
 "nbformat": 4,
 "nbformat_minor": 5
}
