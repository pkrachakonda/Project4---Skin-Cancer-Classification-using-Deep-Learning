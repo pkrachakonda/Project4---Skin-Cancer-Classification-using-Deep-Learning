{
 "cells": [
  {
   "cell_type": "markdown",
   "id": "c3059440-757f-48da-9d12-c34bdb71980f",
   "metadata": {},
   "source": [
    "# WHO Data Set"
   ]
  },
  {
   "cell_type": "code",
   "execution_count": 1,
   "id": "4bce7c35-fff6-47bc-b95f-58f5727e797e",
   "metadata": {
    "tags": []
   },
   "outputs": [
    {
     "data": {
      "text/html": [
       "<div>\n",
       "<style scoped>\n",
       "    .dataframe tbody tr th:only-of-type {\n",
       "        vertical-align: middle;\n",
       "    }\n",
       "\n",
       "    .dataframe tbody tr th {\n",
       "        vertical-align: top;\n",
       "    }\n",
       "\n",
       "    .dataframe thead th {\n",
       "        text-align: right;\n",
       "    }\n",
       "</style>\n",
       "<table border=\"1\" class=\"dataframe\">\n",
       "  <thead>\n",
       "    <tr style=\"text-align: right;\">\n",
       "      <th></th>\n",
       "      <th>Region Code</th>\n",
       "      <th>Region Name</th>\n",
       "      <th>Country Code</th>\n",
       "      <th>Country Name</th>\n",
       "      <th>Year</th>\n",
       "      <th>Sex</th>\n",
       "      <th>Age group code</th>\n",
       "      <th>Age Group</th>\n",
       "      <th>Number</th>\n",
       "      <th>Percentage of cause-specific deaths out of total deaths</th>\n",
       "      <th>Age-standardized death rate per 100 000 standard population</th>\n",
       "      <th>Death rate per 100 000 population</th>\n",
       "    </tr>\n",
       "  </thead>\n",
       "  <tbody>\n",
       "    <tr>\n",
       "      <th>0</th>\n",
       "      <td>EU</td>\n",
       "      <td>Europe</td>\n",
       "      <td>ALB</td>\n",
       "      <td>Albania</td>\n",
       "      <td>1987</td>\n",
       "      <td>All</td>\n",
       "      <td>Age_all</td>\n",
       "      <td>[All]</td>\n",
       "      <td>22.0</td>\n",
       "      <td>0.126977</td>\n",
       "      <td>1.036609</td>\n",
       "      <td>0.715191</td>\n",
       "    </tr>\n",
       "    <tr>\n",
       "      <th>1</th>\n",
       "      <td>EU</td>\n",
       "      <td>Europe</td>\n",
       "      <td>ALB</td>\n",
       "      <td>Albania</td>\n",
       "      <td>1987</td>\n",
       "      <td>All</td>\n",
       "      <td>Age00</td>\n",
       "      <td>[0]</td>\n",
       "      <td>0.0</td>\n",
       "      <td>0.000000</td>\n",
       "      <td>NaN</td>\n",
       "      <td>0.000000</td>\n",
       "    </tr>\n",
       "    <tr>\n",
       "      <th>2</th>\n",
       "      <td>EU</td>\n",
       "      <td>Europe</td>\n",
       "      <td>ALB</td>\n",
       "      <td>Albania</td>\n",
       "      <td>1987</td>\n",
       "      <td>All</td>\n",
       "      <td>Age01_04</td>\n",
       "      <td>[1-4]</td>\n",
       "      <td>0.0</td>\n",
       "      <td>0.000000</td>\n",
       "      <td>NaN</td>\n",
       "      <td>0.000000</td>\n",
       "    </tr>\n",
       "    <tr>\n",
       "      <th>3</th>\n",
       "      <td>EU</td>\n",
       "      <td>Europe</td>\n",
       "      <td>ALB</td>\n",
       "      <td>Albania</td>\n",
       "      <td>1987</td>\n",
       "      <td>All</td>\n",
       "      <td>Age05_09</td>\n",
       "      <td>[5-9]</td>\n",
       "      <td>0.0</td>\n",
       "      <td>0.000000</td>\n",
       "      <td>NaN</td>\n",
       "      <td>0.000000</td>\n",
       "    </tr>\n",
       "    <tr>\n",
       "      <th>4</th>\n",
       "      <td>EU</td>\n",
       "      <td>Europe</td>\n",
       "      <td>ALB</td>\n",
       "      <td>Albania</td>\n",
       "      <td>1987</td>\n",
       "      <td>All</td>\n",
       "      <td>Age10_14</td>\n",
       "      <td>[10-14]</td>\n",
       "      <td>0.0</td>\n",
       "      <td>0.000000</td>\n",
       "      <td>NaN</td>\n",
       "      <td>0.000000</td>\n",
       "    </tr>\n",
       "  </tbody>\n",
       "</table>\n",
       "</div>"
      ],
      "text/plain": [
       "  Region Code Region Name Country Code Country Name  Year  Sex Age group code  \\\n",
       "0          EU      Europe          ALB      Albania  1987  All        Age_all   \n",
       "1          EU      Europe          ALB      Albania  1987  All          Age00   \n",
       "2          EU      Europe          ALB      Albania  1987  All       Age01_04   \n",
       "3          EU      Europe          ALB      Albania  1987  All       Age05_09   \n",
       "4          EU      Europe          ALB      Albania  1987  All       Age10_14   \n",
       "\n",
       "  Age Group  Number  Percentage of cause-specific deaths out of total deaths  \\\n",
       "0     [All]    22.0                                           0.126977         \n",
       "1       [0]     0.0                                           0.000000         \n",
       "2     [1-4]     0.0                                           0.000000         \n",
       "3     [5-9]     0.0                                           0.000000         \n",
       "4   [10-14]     0.0                                           0.000000         \n",
       "\n",
       "   Age-standardized death rate per 100 000 standard population  \\\n",
       "0                                           1.036609             \n",
       "1                                                NaN             \n",
       "2                                                NaN             \n",
       "3                                                NaN             \n",
       "4                                                NaN             \n",
       "\n",
       "   Death rate per 100 000 population  \n",
       "0                           0.715191  \n",
       "1                           0.000000  \n",
       "2                           0.000000  \n",
       "3                           0.000000  \n",
       "4                           0.000000  "
      ]
     },
     "execution_count": 1,
     "metadata": {},
     "output_type": "execute_result"
    }
   ],
   "source": [
    "#import WHO dataset\n",
    "import pandas as pd\n",
    "WHO_df = pd.read_csv('Master_Folder/WHO_Data/WHOMortalityDatabase_Map_a. Malignant skin melanoma_19th December 2023 23 17.csv', skiprows = 5, index_col=False)\n",
    "WHO_df.head()"
   ]
  },
  {
   "cell_type": "code",
   "execution_count": 2,
   "id": "62da2e04-0f3e-4577-8de2-021197fe38ea",
   "metadata": {
    "tags": []
   },
   "outputs": [
    {
     "data": {
      "text/plain": [
       "Index(['Region Code', 'Region Name', 'Country Code', 'Country Name', 'Year',\n",
       "       'Sex', 'Age group code', 'Age Group', 'Number',\n",
       "       'Percentage of cause-specific deaths out of total deaths',\n",
       "       'Age-standardized death rate per 100 000 standard population',\n",
       "       'Death rate per 100 000 population'],\n",
       "      dtype='object')"
      ]
     },
     "execution_count": 2,
     "metadata": {},
     "output_type": "execute_result"
    }
   ],
   "source": [
    "WHO_df.columns"
   ]
  },
  {
   "cell_type": "code",
   "execution_count": 3,
   "id": "289b034c-073f-4f90-97df-68425f7fa391",
   "metadata": {
    "tags": []
   },
   "outputs": [
    {
     "data": {
      "text/plain": [
       "Region Code                                                     object\n",
       "Region Name                                                     object\n",
       "Country Code                                                    object\n",
       "Country Name                                                    object\n",
       "Year                                                             int64\n",
       "Sex                                                             object\n",
       "Age group code                                                  object\n",
       "Age Group                                                       object\n",
       "Number                                                         float64\n",
       "Percentage of cause-specific deaths out of total deaths        float64\n",
       "Age-standardized death rate per 100 000 standard population    float64\n",
       "Death rate per 100 000 population                              float64\n",
       "dtype: object"
      ]
     },
     "execution_count": 3,
     "metadata": {},
     "output_type": "execute_result"
    }
   ],
   "source": [
    "#data type for each column\n",
    "WHO_df.dtypes"
   ]
  },
  {
   "cell_type": "code",
   "execution_count": 4,
   "id": "5da83910-2c84-4982-a410-49e3091c93d5",
   "metadata": {
    "tags": []
   },
   "outputs": [
    {
     "data": {
      "text/plain": [
       "Region Code                                                    183036\n",
       "Region Name                                                    183036\n",
       "Country Code                                                   183036\n",
       "Country Name                                                   183036\n",
       "Year                                                           183036\n",
       "Sex                                                            183036\n",
       "Age group code                                                 183036\n",
       "Age Group                                                      183036\n",
       "Number                                                         182340\n",
       "Percentage of cause-specific deaths out of total deaths        177031\n",
       "Age-standardized death rate per 100 000 standard population      8580\n",
       "Death rate per 100 000 population                              170424\n",
       "dtype: int64"
      ]
     },
     "execution_count": 4,
     "metadata": {},
     "output_type": "execute_result"
    }
   ],
   "source": [
    "#check for null values\n",
    "WHO_df.count()"
   ]
  },
  {
   "cell_type": "code",
   "execution_count": 5,
   "id": "dabcd5fc-297c-4a74-963c-0b55854fd6cf",
   "metadata": {
    "tags": []
   },
   "outputs": [
    {
     "data": {
      "text/plain": [
       "['Number',\n",
       " 'Percentage of cause-specific deaths out of total deaths',\n",
       " 'Age-standardized death rate per 100 000 standard population',\n",
       " 'Death rate per 100 000 population']"
      ]
     },
     "execution_count": 5,
     "metadata": {},
     "output_type": "execute_result"
    }
   ],
   "source": [
    "#list columns with null values\n",
    "WHO_df.columns[WHO_df.isna().any()].tolist()"
   ]
  },
  {
   "cell_type": "code",
   "execution_count": 6,
   "id": "3d1c7488-fd8f-4faa-9ab4-d111f40672b8",
   "metadata": {
    "tags": []
   },
   "outputs": [
    {
     "data": {
      "text/html": [
       "<div>\n",
       "<style scoped>\n",
       "    .dataframe tbody tr th:only-of-type {\n",
       "        vertical-align: middle;\n",
       "    }\n",
       "\n",
       "    .dataframe tbody tr th {\n",
       "        vertical-align: top;\n",
       "    }\n",
       "\n",
       "    .dataframe thead th {\n",
       "        text-align: right;\n",
       "    }\n",
       "</style>\n",
       "<table border=\"1\" class=\"dataframe\">\n",
       "  <thead>\n",
       "    <tr style=\"text-align: right;\">\n",
       "      <th></th>\n",
       "      <th>Number</th>\n",
       "      <th>Percentage of cause-specific deaths out of total deaths</th>\n",
       "      <th>Age-standardized death rate per 100 000 standard population</th>\n",
       "      <th>Death rate per 100 000 population</th>\n",
       "    </tr>\n",
       "  </thead>\n",
       "  <tbody>\n",
       "    <tr>\n",
       "      <th>0</th>\n",
       "      <td>22.0</td>\n",
       "      <td>0.126977</td>\n",
       "      <td>1.036609</td>\n",
       "      <td>0.715191</td>\n",
       "    </tr>\n",
       "    <tr>\n",
       "      <th>1</th>\n",
       "      <td>0.0</td>\n",
       "      <td>0.000000</td>\n",
       "      <td>NaN</td>\n",
       "      <td>0.000000</td>\n",
       "    </tr>\n",
       "    <tr>\n",
       "      <th>2</th>\n",
       "      <td>0.0</td>\n",
       "      <td>0.000000</td>\n",
       "      <td>NaN</td>\n",
       "      <td>0.000000</td>\n",
       "    </tr>\n",
       "    <tr>\n",
       "      <th>3</th>\n",
       "      <td>0.0</td>\n",
       "      <td>0.000000</td>\n",
       "      <td>NaN</td>\n",
       "      <td>0.000000</td>\n",
       "    </tr>\n",
       "    <tr>\n",
       "      <th>4</th>\n",
       "      <td>0.0</td>\n",
       "      <td>0.000000</td>\n",
       "      <td>NaN</td>\n",
       "      <td>0.000000</td>\n",
       "    </tr>\n",
       "    <tr>\n",
       "      <th>...</th>\n",
       "      <td>...</td>\n",
       "      <td>...</td>\n",
       "      <td>...</td>\n",
       "      <td>...</td>\n",
       "    </tr>\n",
       "    <tr>\n",
       "      <th>183031</th>\n",
       "      <td>16.0</td>\n",
       "      <td>0.102512</td>\n",
       "      <td>NaN</td>\n",
       "      <td>3.340592</td>\n",
       "    </tr>\n",
       "    <tr>\n",
       "      <th>183032</th>\n",
       "      <td>13.0</td>\n",
       "      <td>0.074269</td>\n",
       "      <td>NaN</td>\n",
       "      <td>4.044804</td>\n",
       "    </tr>\n",
       "    <tr>\n",
       "      <th>183033</th>\n",
       "      <td>16.0</td>\n",
       "      <td>0.100288</td>\n",
       "      <td>NaN</td>\n",
       "      <td>9.174312</td>\n",
       "    </tr>\n",
       "    <tr>\n",
       "      <th>183034</th>\n",
       "      <td>20.0</td>\n",
       "      <td>0.078052</td>\n",
       "      <td>NaN</td>\n",
       "      <td>27.331365</td>\n",
       "    </tr>\n",
       "    <tr>\n",
       "      <th>183035</th>\n",
       "      <td>0.0</td>\n",
       "      <td>0.000000</td>\n",
       "      <td>NaN</td>\n",
       "      <td>NaN</td>\n",
       "    </tr>\n",
       "  </tbody>\n",
       "</table>\n",
       "<p>183036 rows × 4 columns</p>\n",
       "</div>"
      ],
      "text/plain": [
       "        Number  Percentage of cause-specific deaths out of total deaths  \\\n",
       "0         22.0                                           0.126977         \n",
       "1          0.0                                           0.000000         \n",
       "2          0.0                                           0.000000         \n",
       "3          0.0                                           0.000000         \n",
       "4          0.0                                           0.000000         \n",
       "...        ...                                                ...         \n",
       "183031    16.0                                           0.102512         \n",
       "183032    13.0                                           0.074269         \n",
       "183033    16.0                                           0.100288         \n",
       "183034    20.0                                           0.078052         \n",
       "183035     0.0                                           0.000000         \n",
       "\n",
       "        Age-standardized death rate per 100 000 standard population  \\\n",
       "0                                                1.036609             \n",
       "1                                                     NaN             \n",
       "2                                                     NaN             \n",
       "3                                                     NaN             \n",
       "4                                                     NaN             \n",
       "...                                                   ...             \n",
       "183031                                                NaN             \n",
       "183032                                                NaN             \n",
       "183033                                                NaN             \n",
       "183034                                                NaN             \n",
       "183035                                                NaN             \n",
       "\n",
       "        Death rate per 100 000 population  \n",
       "0                                0.715191  \n",
       "1                                0.000000  \n",
       "2                                0.000000  \n",
       "3                                0.000000  \n",
       "4                                0.000000  \n",
       "...                                   ...  \n",
       "183031                           3.340592  \n",
       "183032                           4.044804  \n",
       "183033                           9.174312  \n",
       "183034                          27.331365  \n",
       "183035                                NaN  \n",
       "\n",
       "[183036 rows x 4 columns]"
      ]
     },
     "execution_count": 6,
     "metadata": {},
     "output_type": "execute_result"
    }
   ],
   "source": [
    "WHO_df.loc[:, WHO_df.isna().any()]"
   ]
  },
  {
   "cell_type": "code",
   "execution_count": 7,
   "id": "63582de9-b226-4568-9647-099bbb81c0b8",
   "metadata": {
    "tags": []
   },
   "outputs": [],
   "source": [
    "#drop column include null values\n",
    "WHO_df.dropna(subset = ['Number', 'Percentage of cause-specific deaths out of total deaths', 'Death rate per 100 000 population'], inplace=True)"
   ]
  },
  {
   "cell_type": "code",
   "execution_count": 8,
   "id": "eac7d7ce-4e71-41ec-9c7a-764fd76a99c8",
   "metadata": {
    "tags": []
   },
   "outputs": [
    {
     "data": {
      "text/plain": [
       "Region Code                                                    170156\n",
       "Region Name                                                    170156\n",
       "Country Code                                                   170156\n",
       "Country Name                                                   170156\n",
       "Year                                                           170156\n",
       "Sex                                                            170156\n",
       "Age group code                                                 170156\n",
       "Age Group                                                      170156\n",
       "Number                                                         170156\n",
       "Percentage of cause-specific deaths out of total deaths        170156\n",
       "Age-standardized death rate per 100 000 standard population      8580\n",
       "Death rate per 100 000 population                              170156\n",
       "dtype: int64"
      ]
     },
     "execution_count": 8,
     "metadata": {},
     "output_type": "execute_result"
    }
   ],
   "source": [
    "#conform whether null values are drop\n",
    "WHO_df.count()"
   ]
  },
  {
   "cell_type": "code",
   "execution_count": 9,
   "id": "4aa2fcd9-b906-4e23-bc39-5e265cd44e7a",
   "metadata": {
    "tags": []
   },
   "outputs": [
    {
     "data": {
      "text/plain": [
       "['Albania',\n",
       " 'Antigua and Barbuda',\n",
       " 'Argentina',\n",
       " 'Armenia',\n",
       " 'Australia',\n",
       " 'Austria',\n",
       " 'Azerbaijan',\n",
       " 'Bahamas',\n",
       " 'Bahrain',\n",
       " 'Barbados',\n",
       " 'Belarus',\n",
       " 'Belgium',\n",
       " 'Belize',\n",
       " 'Bosnia and Herzegovina',\n",
       " 'Brazil',\n",
       " 'Brunei Darussalam',\n",
       " 'Bulgaria',\n",
       " 'Cabo Verde',\n",
       " 'Canada',\n",
       " 'Chile',\n",
       " 'Colombia',\n",
       " 'Costa Rica',\n",
       " 'Croatia',\n",
       " 'Cuba',\n",
       " 'Cyprus',\n",
       " 'Czechia',\n",
       " 'Denmark',\n",
       " 'Dominican Republic',\n",
       " 'Ecuador',\n",
       " 'Egypt',\n",
       " 'El Salvador',\n",
       " 'Estonia',\n",
       " 'Fiji',\n",
       " 'Finland',\n",
       " 'France',\n",
       " 'French Guiana',\n",
       " 'Georgia',\n",
       " 'Germany',\n",
       " 'Greece',\n",
       " 'Grenada',\n",
       " 'Guadeloupe',\n",
       " 'Guatemala',\n",
       " 'Guyana',\n",
       " 'China, Hong Kong SAR',\n",
       " 'Hungary',\n",
       " 'Iceland',\n",
       " 'Iran (Islamic Republic of)',\n",
       " 'Iraq',\n",
       " 'Ireland',\n",
       " 'Israel',\n",
       " 'Italy',\n",
       " 'Jamaica',\n",
       " 'Japan',\n",
       " 'Kazakhstan',\n",
       " 'Republic of Korea',\n",
       " 'Kuwait',\n",
       " 'Kyrgyzstan',\n",
       " 'Latvia',\n",
       " 'Lithuania',\n",
       " 'Luxembourg',\n",
       " 'Maldives',\n",
       " 'Malta',\n",
       " 'Martinique',\n",
       " 'Mauritius',\n",
       " 'Mayotte',\n",
       " 'Mexico',\n",
       " 'Republic of Moldova',\n",
       " 'Mongolia',\n",
       " 'Montenegro',\n",
       " 'Netherlands',\n",
       " 'New Zealand',\n",
       " 'Nicaragua',\n",
       " 'North Macedonia',\n",
       " 'Norway',\n",
       " 'Panama',\n",
       " 'Paraguay',\n",
       " 'Peru',\n",
       " 'Philippines',\n",
       " 'Poland',\n",
       " 'Portugal',\n",
       " 'Puerto Rico',\n",
       " 'R?union',\n",
       " 'Romania',\n",
       " 'Russian Federation',\n",
       " 'Saint Lucia',\n",
       " 'Saint Vincent and the Grenadines',\n",
       " 'Sao Tome and Principe',\n",
       " 'Serbia',\n",
       " 'Seychelles',\n",
       " 'Singapore',\n",
       " 'Slovakia',\n",
       " 'Slovenia',\n",
       " 'South Africa',\n",
       " 'Spain',\n",
       " 'Sri Lanka',\n",
       " 'Suriname',\n",
       " 'Sweden',\n",
       " 'Switzerland',\n",
       " 'Syrian Arab Republic',\n",
       " 'Thailand',\n",
       " 'Trinidad and Tobago',\n",
       " 'T?rkiye',\n",
       " 'Turkmenistan',\n",
       " 'Ukraine',\n",
       " 'United Kingdom of Great Britain and Northern Ireland',\n",
       " 'United States of America',\n",
       " 'Uruguay',\n",
       " 'Uzbekistan',\n",
       " 'Venezuela (Bolivarian Republic of)',\n",
       " 'Jordan',\n",
       " 'United Arab Emirates',\n",
       " 'Lebanon',\n",
       " 'Malaysia',\n",
       " 'Oman',\n",
       " 'Qatar',\n",
       " 'Tajikistan']"
      ]
     },
     "execution_count": 9,
     "metadata": {},
     "output_type": "execute_result"
    }
   ],
   "source": [
    "#check unique countries\n",
    "WHO_df[\"Country Name\"].unique().tolist()"
   ]
  },
  {
   "cell_type": "code",
   "execution_count": 10,
   "id": "78d79079-1f67-47f7-ae53-bc3674be5587",
   "metadata": {
    "tags": []
   },
   "outputs": [
    {
     "data": {
      "text/plain": [
       "['Albania',\n",
       " 'Antigua and Barbuda',\n",
       " 'Argentina',\n",
       " 'Armenia',\n",
       " 'Australia',\n",
       " 'Austria',\n",
       " 'Azerbaijan',\n",
       " 'Bahamas',\n",
       " 'Bahrain',\n",
       " 'Barbados',\n",
       " 'Belarus',\n",
       " 'Belgium',\n",
       " 'Belize',\n",
       " 'Bosnia and Herzegovina',\n",
       " 'Brazil',\n",
       " 'Brunei Darussalam',\n",
       " 'Bulgaria',\n",
       " 'Cabo Verde',\n",
       " 'Canada',\n",
       " 'Chile',\n",
       " 'Colombia',\n",
       " 'Costa Rica',\n",
       " 'Croatia',\n",
       " 'Cuba',\n",
       " 'Cyprus',\n",
       " 'Czechia',\n",
       " 'Denmark',\n",
       " 'Dominican Republic',\n",
       " 'Ecuador',\n",
       " 'Egypt',\n",
       " 'El Salvador',\n",
       " 'Estonia',\n",
       " 'Fiji',\n",
       " 'Finland',\n",
       " 'France',\n",
       " 'French Guiana',\n",
       " 'Georgia',\n",
       " 'Germany',\n",
       " 'Greece',\n",
       " 'Grenada',\n",
       " 'Guadeloupe',\n",
       " 'Guatemala',\n",
       " 'Guyana',\n",
       " 'China, Hong Kong SAR',\n",
       " 'Hungary',\n",
       " 'Iceland',\n",
       " 'Iran (Islamic Republic of)',\n",
       " 'Iraq',\n",
       " 'Ireland',\n",
       " 'Israel',\n",
       " 'Italy',\n",
       " 'Jamaica',\n",
       " 'Japan',\n",
       " 'Kazakhstan',\n",
       " 'Republic of Korea',\n",
       " 'Kuwait',\n",
       " 'Kyrgyzstan',\n",
       " 'Latvia',\n",
       " 'Lithuania',\n",
       " 'Luxembourg',\n",
       " 'Maldives',\n",
       " 'Malta',\n",
       " 'Martinique',\n",
       " 'Mauritius',\n",
       " 'Mayotte',\n",
       " 'Mexico',\n",
       " 'Republic of Moldova',\n",
       " 'Mongolia',\n",
       " 'Montenegro',\n",
       " 'Netherlands',\n",
       " 'New Zealand',\n",
       " 'Nicaragua',\n",
       " 'North Macedonia',\n",
       " 'Norway',\n",
       " 'Panama',\n",
       " 'Paraguay',\n",
       " 'Peru',\n",
       " 'Philippines',\n",
       " 'Poland',\n",
       " 'Portugal',\n",
       " 'Puerto Rico',\n",
       " 'R?union',\n",
       " 'Romania',\n",
       " 'Russian Federation',\n",
       " 'Saint Lucia',\n",
       " 'Saint Vincent and the Grenadines',\n",
       " 'Sao Tome and Principe',\n",
       " 'Serbia',\n",
       " 'Seychelles',\n",
       " 'Singapore',\n",
       " 'Slovakia',\n",
       " 'Slovenia',\n",
       " 'South Africa',\n",
       " 'Spain',\n",
       " 'Sri Lanka',\n",
       " 'Suriname',\n",
       " 'Sweden',\n",
       " 'Switzerland',\n",
       " 'Syrian Arab Republic',\n",
       " 'Thailand',\n",
       " 'Trinidad and Tobago',\n",
       " 'Turkey',\n",
       " 'Turkmenistan',\n",
       " 'Ukraine',\n",
       " 'United Kingdom of Great Britain and Northern Ireland',\n",
       " 'United States of America',\n",
       " 'Uruguay',\n",
       " 'Uzbekistan',\n",
       " 'Venezuela (Bolivarian Republic of)',\n",
       " 'Jordan',\n",
       " 'United Arab Emirates',\n",
       " 'Lebanon',\n",
       " 'Malaysia',\n",
       " 'Oman',\n",
       " 'Qatar',\n",
       " 'Tajikistan']"
      ]
     },
     "execution_count": 10,
     "metadata": {},
     "output_type": "execute_result"
    }
   ],
   "source": [
    "#replace \"T?rkiye\" with Turkey\n",
    "WHO_df = WHO_df.replace(\"T?rkiye\", \"Turkey\")\n",
    "WHO_df[\"Country Name\"].unique().tolist()"
   ]
  },
  {
   "cell_type": "code",
   "execution_count": 11,
   "id": "35899b85-0678-40a8-b210-8fde42009fba",
   "metadata": {
    "tags": []
   },
   "outputs": [],
   "source": [
    "# #remove square bracket from \"age group\" column\n",
    "# WHO_df['Age Group'] = WHO_df['Age Group'].str.strip('[]')\n",
    "# WHO_df.head()"
   ]
  },
  {
   "cell_type": "code",
   "execution_count": 12,
   "id": "52d30f71-67ad-430e-b865-cb660d0166bb",
   "metadata": {
    "tags": []
   },
   "outputs": [
    {
     "data": {
      "text/html": [
       "<div>\n",
       "<style scoped>\n",
       "    .dataframe tbody tr th:only-of-type {\n",
       "        vertical-align: middle;\n",
       "    }\n",
       "\n",
       "    .dataframe tbody tr th {\n",
       "        vertical-align: top;\n",
       "    }\n",
       "\n",
       "    .dataframe thead th {\n",
       "        text-align: right;\n",
       "    }\n",
       "</style>\n",
       "<table border=\"1\" class=\"dataframe\">\n",
       "  <thead>\n",
       "    <tr style=\"text-align: right;\">\n",
       "      <th></th>\n",
       "      <th>Region Code</th>\n",
       "      <th>Region Name</th>\n",
       "      <th>Country Code</th>\n",
       "      <th>Country Name</th>\n",
       "      <th>Year</th>\n",
       "      <th>Sex</th>\n",
       "      <th>Age group code</th>\n",
       "      <th>Age Group</th>\n",
       "      <th>Number</th>\n",
       "      <th>Percentage of cause-specific deaths out of total deaths</th>\n",
       "      <th>Age-standardized death rate per 100 000 standard population</th>\n",
       "      <th>Death rate per 100 000 population</th>\n",
       "    </tr>\n",
       "  </thead>\n",
       "  <tbody>\n",
       "    <tr>\n",
       "      <th>0</th>\n",
       "      <td>EU</td>\n",
       "      <td>Europe</td>\n",
       "      <td>ALB</td>\n",
       "      <td>Albania</td>\n",
       "      <td>1987</td>\n",
       "      <td>All</td>\n",
       "      <td>Age all</td>\n",
       "      <td>[All]</td>\n",
       "      <td>22.0</td>\n",
       "      <td>0.126977</td>\n",
       "      <td>1.036609</td>\n",
       "      <td>0.715191</td>\n",
       "    </tr>\n",
       "    <tr>\n",
       "      <th>1</th>\n",
       "      <td>EU</td>\n",
       "      <td>Europe</td>\n",
       "      <td>ALB</td>\n",
       "      <td>Albania</td>\n",
       "      <td>1987</td>\n",
       "      <td>All</td>\n",
       "      <td>00</td>\n",
       "      <td>[0]</td>\n",
       "      <td>0.0</td>\n",
       "      <td>0.000000</td>\n",
       "      <td>NaN</td>\n",
       "      <td>0.000000</td>\n",
       "    </tr>\n",
       "    <tr>\n",
       "      <th>2</th>\n",
       "      <td>EU</td>\n",
       "      <td>Europe</td>\n",
       "      <td>ALB</td>\n",
       "      <td>Albania</td>\n",
       "      <td>1987</td>\n",
       "      <td>All</td>\n",
       "      <td>01_04</td>\n",
       "      <td>[1-4]</td>\n",
       "      <td>0.0</td>\n",
       "      <td>0.000000</td>\n",
       "      <td>NaN</td>\n",
       "      <td>0.000000</td>\n",
       "    </tr>\n",
       "    <tr>\n",
       "      <th>3</th>\n",
       "      <td>EU</td>\n",
       "      <td>Europe</td>\n",
       "      <td>ALB</td>\n",
       "      <td>Albania</td>\n",
       "      <td>1987</td>\n",
       "      <td>All</td>\n",
       "      <td>05_09</td>\n",
       "      <td>[5-9]</td>\n",
       "      <td>0.0</td>\n",
       "      <td>0.000000</td>\n",
       "      <td>NaN</td>\n",
       "      <td>0.000000</td>\n",
       "    </tr>\n",
       "    <tr>\n",
       "      <th>4</th>\n",
       "      <td>EU</td>\n",
       "      <td>Europe</td>\n",
       "      <td>ALB</td>\n",
       "      <td>Albania</td>\n",
       "      <td>1987</td>\n",
       "      <td>All</td>\n",
       "      <td>10_14</td>\n",
       "      <td>[10-14]</td>\n",
       "      <td>0.0</td>\n",
       "      <td>0.000000</td>\n",
       "      <td>NaN</td>\n",
       "      <td>0.000000</td>\n",
       "    </tr>\n",
       "  </tbody>\n",
       "</table>\n",
       "</div>"
      ],
      "text/plain": [
       "  Region Code Region Name Country Code Country Name  Year  Sex Age group code  \\\n",
       "0          EU      Europe          ALB      Albania  1987  All        Age all   \n",
       "1          EU      Europe          ALB      Albania  1987  All             00   \n",
       "2          EU      Europe          ALB      Albania  1987  All          01_04   \n",
       "3          EU      Europe          ALB      Albania  1987  All          05_09   \n",
       "4          EU      Europe          ALB      Albania  1987  All          10_14   \n",
       "\n",
       "  Age Group  Number  Percentage of cause-specific deaths out of total deaths  \\\n",
       "0     [All]    22.0                                           0.126977         \n",
       "1       [0]     0.0                                           0.000000         \n",
       "2     [1-4]     0.0                                           0.000000         \n",
       "3     [5-9]     0.0                                           0.000000         \n",
       "4   [10-14]     0.0                                           0.000000         \n",
       "\n",
       "   Age-standardized death rate per 100 000 standard population  \\\n",
       "0                                           1.036609             \n",
       "1                                                NaN             \n",
       "2                                                NaN             \n",
       "3                                                NaN             \n",
       "4                                                NaN             \n",
       "\n",
       "   Death rate per 100 000 population  \n",
       "0                           0.715191  \n",
       "1                           0.000000  \n",
       "2                           0.000000  \n",
       "3                           0.000000  \n",
       "4                           0.000000  "
      ]
     },
     "execution_count": 12,
     "metadata": {},
     "output_type": "execute_result"
    }
   ],
   "source": [
    "WHO_df['Age group code'] = WHO_df['Age group code'].str.replace('Age','')\n",
    "WHO_df['Age group code'] = WHO_df['Age group code'].str.replace('_all','Age all')\n",
    "WHO_df.head()"
   ]
  },
  {
   "cell_type": "code",
   "execution_count": 13,
   "id": "84f4e9c0-4a78-45d8-8887-bb4c0d72957c",
   "metadata": {
    "tags": []
   },
   "outputs": [
    {
     "data": {
      "text/html": [
       "<div>\n",
       "<style scoped>\n",
       "    .dataframe tbody tr th:only-of-type {\n",
       "        vertical-align: middle;\n",
       "    }\n",
       "\n",
       "    .dataframe tbody tr th {\n",
       "        vertical-align: top;\n",
       "    }\n",
       "\n",
       "    .dataframe thead th {\n",
       "        text-align: right;\n",
       "    }\n",
       "</style>\n",
       "<table border=\"1\" class=\"dataframe\">\n",
       "  <thead>\n",
       "    <tr style=\"text-align: right;\">\n",
       "      <th></th>\n",
       "      <th>Region Code</th>\n",
       "      <th>Region Name</th>\n",
       "      <th>Country Code</th>\n",
       "      <th>Country Name</th>\n",
       "      <th>Year</th>\n",
       "      <th>Sex</th>\n",
       "      <th>Age group code</th>\n",
       "      <th>Number</th>\n",
       "      <th>Percentage of cause-specific deaths out of total deaths</th>\n",
       "      <th>Age-standardized death rate per 100 000 standard population</th>\n",
       "      <th>Death rate per 100 000 population</th>\n",
       "    </tr>\n",
       "  </thead>\n",
       "  <tbody>\n",
       "    <tr>\n",
       "      <th>0</th>\n",
       "      <td>EU</td>\n",
       "      <td>Europe</td>\n",
       "      <td>ALB</td>\n",
       "      <td>Albania</td>\n",
       "      <td>1987</td>\n",
       "      <td>All</td>\n",
       "      <td>Age all</td>\n",
       "      <td>22.0</td>\n",
       "      <td>0.126977</td>\n",
       "      <td>1.036609</td>\n",
       "      <td>0.715191</td>\n",
       "    </tr>\n",
       "    <tr>\n",
       "      <th>1</th>\n",
       "      <td>EU</td>\n",
       "      <td>Europe</td>\n",
       "      <td>ALB</td>\n",
       "      <td>Albania</td>\n",
       "      <td>1987</td>\n",
       "      <td>All</td>\n",
       "      <td>00</td>\n",
       "      <td>0.0</td>\n",
       "      <td>0.000000</td>\n",
       "      <td>NaN</td>\n",
       "      <td>0.000000</td>\n",
       "    </tr>\n",
       "    <tr>\n",
       "      <th>2</th>\n",
       "      <td>EU</td>\n",
       "      <td>Europe</td>\n",
       "      <td>ALB</td>\n",
       "      <td>Albania</td>\n",
       "      <td>1987</td>\n",
       "      <td>All</td>\n",
       "      <td>01_04</td>\n",
       "      <td>0.0</td>\n",
       "      <td>0.000000</td>\n",
       "      <td>NaN</td>\n",
       "      <td>0.000000</td>\n",
       "    </tr>\n",
       "    <tr>\n",
       "      <th>3</th>\n",
       "      <td>EU</td>\n",
       "      <td>Europe</td>\n",
       "      <td>ALB</td>\n",
       "      <td>Albania</td>\n",
       "      <td>1987</td>\n",
       "      <td>All</td>\n",
       "      <td>05_09</td>\n",
       "      <td>0.0</td>\n",
       "      <td>0.000000</td>\n",
       "      <td>NaN</td>\n",
       "      <td>0.000000</td>\n",
       "    </tr>\n",
       "    <tr>\n",
       "      <th>4</th>\n",
       "      <td>EU</td>\n",
       "      <td>Europe</td>\n",
       "      <td>ALB</td>\n",
       "      <td>Albania</td>\n",
       "      <td>1987</td>\n",
       "      <td>All</td>\n",
       "      <td>10_14</td>\n",
       "      <td>0.0</td>\n",
       "      <td>0.000000</td>\n",
       "      <td>NaN</td>\n",
       "      <td>0.000000</td>\n",
       "    </tr>\n",
       "  </tbody>\n",
       "</table>\n",
       "</div>"
      ],
      "text/plain": [
       "  Region Code Region Name Country Code Country Name  Year  Sex Age group code  \\\n",
       "0          EU      Europe          ALB      Albania  1987  All        Age all   \n",
       "1          EU      Europe          ALB      Albania  1987  All             00   \n",
       "2          EU      Europe          ALB      Albania  1987  All          01_04   \n",
       "3          EU      Europe          ALB      Albania  1987  All          05_09   \n",
       "4          EU      Europe          ALB      Albania  1987  All          10_14   \n",
       "\n",
       "   Number  Percentage of cause-specific deaths out of total deaths  \\\n",
       "0    22.0                                           0.126977         \n",
       "1     0.0                                           0.000000         \n",
       "2     0.0                                           0.000000         \n",
       "3     0.0                                           0.000000         \n",
       "4     0.0                                           0.000000         \n",
       "\n",
       "   Age-standardized death rate per 100 000 standard population  \\\n",
       "0                                           1.036609             \n",
       "1                                                NaN             \n",
       "2                                                NaN             \n",
       "3                                                NaN             \n",
       "4                                                NaN             \n",
       "\n",
       "   Death rate per 100 000 population  \n",
       "0                           0.715191  \n",
       "1                           0.000000  \n",
       "2                           0.000000  \n",
       "3                           0.000000  \n",
       "4                           0.000000  "
      ]
     },
     "execution_count": 13,
     "metadata": {},
     "output_type": "execute_result"
    }
   ],
   "source": [
    "# #drop \"age group code\" column\n",
    "del WHO_df['Age Group']\n",
    "WHO_df.head()"
   ]
  },
  {
   "cell_type": "code",
   "execution_count": 15,
   "id": "7e0c86e6-e62a-4bac-8b63-44878f3e2268",
   "metadata": {
    "tags": []
   },
   "outputs": [],
   "source": [
    "# #export csv\n",
    "WHO_df.to_csv('Cleaned Datasets/WHO_df.csv')"
   ]
  },
  {
   "cell_type": "code",
   "execution_count": null,
   "id": "f8de9606-d882-4e82-b2a6-11f19cbe6d87",
   "metadata": {},
   "outputs": [],
   "source": []
  },
  {
   "cell_type": "markdown",
   "id": "c47ffd06-6049-4cfe-8279-1b6c793db8f0",
   "metadata": {},
   "source": [
    "# AIHW Dataset\n",
    "## Cancer incidence counts and age-standardised rates, by sex and state and territory, 1982 to 2019"
   ]
  },
  {
   "cell_type": "code",
   "execution_count": 16,
   "id": "8cf75472-2800-41e5-8c84-448ffd9124a6",
   "metadata": {
    "tags": []
   },
   "outputs": [
    {
     "data": {
      "text/html": [
       "<div>\n",
       "<style scoped>\n",
       "    .dataframe tbody tr th:only-of-type {\n",
       "        vertical-align: middle;\n",
       "    }\n",
       "\n",
       "    .dataframe tbody tr th {\n",
       "        vertical-align: top;\n",
       "    }\n",
       "\n",
       "    .dataframe thead th {\n",
       "        text-align: right;\n",
       "    }\n",
       "</style>\n",
       "<table border=\"1\" class=\"dataframe\">\n",
       "  <thead>\n",
       "    <tr style=\"text-align: right;\">\n",
       "      <th></th>\n",
       "      <th>Data type</th>\n",
       "      <th>Cancer group/site</th>\n",
       "      <th>Year</th>\n",
       "      <th>Sex</th>\n",
       "      <th>State or Territory</th>\n",
       "      <th>Count</th>\n",
       "      <th>Age-standardised rate\\n2001 Australian Standard Population \\n(per 100,000)</th>\n",
       "      <th>Age-standardised rate\\n2023 Australian population \\n(per 100,000)</th>\n",
       "      <th>Unnamed: 8</th>\n",
       "      <th>ICD-10 codes</th>\n",
       "    </tr>\n",
       "  </thead>\n",
       "  <tbody>\n",
       "    <tr>\n",
       "      <th>0</th>\n",
       "      <td>Incidence</td>\n",
       "      <td>Acute lymphoblastic leukaemia</td>\n",
       "      <td>1982.0</td>\n",
       "      <td>Males</td>\n",
       "      <td>New South Wales</td>\n",
       "      <td>54</td>\n",
       "      <td>1.9</td>\n",
       "      <td>1.8</td>\n",
       "      <td></td>\n",
       "      <td>C91.0</td>\n",
       "    </tr>\n",
       "    <tr>\n",
       "      <th>1</th>\n",
       "      <td>Incidence</td>\n",
       "      <td>Acute lymphoblastic leukaemia</td>\n",
       "      <td>1982.0</td>\n",
       "      <td>Males</td>\n",
       "      <td>Victoria</td>\n",
       "      <td>31</td>\n",
       "      <td>1.4</td>\n",
       "      <td>1.4</td>\n",
       "      <td></td>\n",
       "      <td>C91.0</td>\n",
       "    </tr>\n",
       "    <tr>\n",
       "      <th>2</th>\n",
       "      <td>Incidence</td>\n",
       "      <td>Acute lymphoblastic leukaemia</td>\n",
       "      <td>1982.0</td>\n",
       "      <td>Males</td>\n",
       "      <td>Queensland</td>\n",
       "      <td>20</td>\n",
       "      <td>1.4</td>\n",
       "      <td>1.3</td>\n",
       "      <td></td>\n",
       "      <td>C91.0</td>\n",
       "    </tr>\n",
       "    <tr>\n",
       "      <th>3</th>\n",
       "      <td>Incidence</td>\n",
       "      <td>Acute lymphoblastic leukaemia</td>\n",
       "      <td>1982.0</td>\n",
       "      <td>Males</td>\n",
       "      <td>Western Australia</td>\n",
       "      <td>4</td>\n",
       "      <td>n.p.</td>\n",
       "      <td>n.p.</td>\n",
       "      <td></td>\n",
       "      <td>C91.0</td>\n",
       "    </tr>\n",
       "    <tr>\n",
       "      <th>4</th>\n",
       "      <td>Incidence</td>\n",
       "      <td>Acute lymphoblastic leukaemia</td>\n",
       "      <td>1982.0</td>\n",
       "      <td>Males</td>\n",
       "      <td>South Australia</td>\n",
       "      <td>17</td>\n",
       "      <td>2.4</td>\n",
       "      <td>2.5</td>\n",
       "      <td></td>\n",
       "      <td>C91.0</td>\n",
       "    </tr>\n",
       "  </tbody>\n",
       "</table>\n",
       "</div>"
      ],
      "text/plain": [
       "   Data type              Cancer group/site    Year    Sex State or Territory  \\\n",
       "0  Incidence  Acute lymphoblastic leukaemia  1982.0  Males    New South Wales   \n",
       "1  Incidence  Acute lymphoblastic leukaemia  1982.0  Males           Victoria   \n",
       "2  Incidence  Acute lymphoblastic leukaemia  1982.0  Males         Queensland   \n",
       "3  Incidence  Acute lymphoblastic leukaemia  1982.0  Males  Western Australia   \n",
       "4  Incidence  Acute lymphoblastic leukaemia  1982.0  Males    South Australia   \n",
       "\n",
       "  Count  \\\n",
       "0    54   \n",
       "1    31   \n",
       "2    20   \n",
       "3     4   \n",
       "4    17   \n",
       "\n",
       "  Age-standardised rate\\n2001 Australian Standard Population \\n(per 100,000)  \\\n",
       "0                                                1.9                           \n",
       "1                                                1.4                           \n",
       "2                                                1.4                           \n",
       "3                                               n.p.                           \n",
       "4                                                2.4                           \n",
       "\n",
       "  Age-standardised rate\\n2023 Australian population \\n(per 100,000)  \\\n",
       "0                                                1.8                  \n",
       "1                                                1.4                  \n",
       "2                                                1.3                  \n",
       "3                                               n.p.                  \n",
       "4                                                2.5                  \n",
       "\n",
       "  Unnamed: 8 ICD-10 codes  \n",
       "0                   C91.0  \n",
       "1                   C91.0  \n",
       "2                   C91.0  \n",
       "3                   C91.0  \n",
       "4                   C91.0  "
      ]
     },
     "execution_count": 16,
     "metadata": {},
     "output_type": "execute_result"
    }
   ],
   "source": [
    "#import AIHW dataset\n",
    "import pandas as pd\n",
    "excel_file_path ='Master_Folder/AIHW_Data/aihw-can-122-CDiA-2023-Book-7-Cancer-incidence-by-state-and-territory.xlsx'\n",
    "sheet_name = 'Table S7.1'\n",
    "AIHW_df = pd.read_excel(excel_file_path, sheet_name=sheet_name, skiprows=5)\n",
    "AIHW_df.head()"
   ]
  },
  {
   "cell_type": "code",
   "execution_count": 17,
   "id": "c0e006fc-8714-4684-ba2c-3897b05f7409",
   "metadata": {
    "tags": []
   },
   "outputs": [
    {
     "data": {
      "text/html": [
       "<div>\n",
       "<style scoped>\n",
       "    .dataframe tbody tr th:only-of-type {\n",
       "        vertical-align: middle;\n",
       "    }\n",
       "\n",
       "    .dataframe tbody tr th {\n",
       "        vertical-align: top;\n",
       "    }\n",
       "\n",
       "    .dataframe thead th {\n",
       "        text-align: right;\n",
       "    }\n",
       "</style>\n",
       "<table border=\"1\" class=\"dataframe\">\n",
       "  <thead>\n",
       "    <tr style=\"text-align: right;\">\n",
       "      <th></th>\n",
       "      <th>Data type</th>\n",
       "      <th>Cancer group/site</th>\n",
       "      <th>Year</th>\n",
       "      <th>Sex</th>\n",
       "      <th>State or Territory</th>\n",
       "      <th>Count</th>\n",
       "      <th>Age-standardised rate\\n2001 Australian Standard Population \\n(per 100,000)</th>\n",
       "      <th>Age-standardised rate\\n2023 Australian population \\n(per 100,000)</th>\n",
       "      <th>Unnamed: 8</th>\n",
       "      <th>ICD-10 codes</th>\n",
       "    </tr>\n",
       "  </thead>\n",
       "  <tbody>\n",
       "    <tr>\n",
       "      <th>0</th>\n",
       "      <td>Incidence</td>\n",
       "      <td>Melanoma of the skin</td>\n",
       "      <td>1982.0</td>\n",
       "      <td>Males</td>\n",
       "      <td>New South Wales</td>\n",
       "      <td>650</td>\n",
       "      <td>28.9</td>\n",
       "      <td>33.1</td>\n",
       "      <td></td>\n",
       "      <td>C43</td>\n",
       "    </tr>\n",
       "    <tr>\n",
       "      <th>1</th>\n",
       "      <td>Incidence</td>\n",
       "      <td>Melanoma of the skin</td>\n",
       "      <td>1982.0</td>\n",
       "      <td>Males</td>\n",
       "      <td>Victoria</td>\n",
       "      <td>279</td>\n",
       "      <td>16.8</td>\n",
       "      <td>19.2</td>\n",
       "      <td></td>\n",
       "      <td>C43</td>\n",
       "    </tr>\n",
       "    <tr>\n",
       "      <th>2</th>\n",
       "      <td>Incidence</td>\n",
       "      <td>Melanoma of the skin</td>\n",
       "      <td>1982.0</td>\n",
       "      <td>Males</td>\n",
       "      <td>Queensland</td>\n",
       "      <td>472</td>\n",
       "      <td>49.3</td>\n",
       "      <td>56.9</td>\n",
       "      <td></td>\n",
       "      <td>C43</td>\n",
       "    </tr>\n",
       "    <tr>\n",
       "      <th>3</th>\n",
       "      <td>Incidence</td>\n",
       "      <td>Melanoma of the skin</td>\n",
       "      <td>1982.0</td>\n",
       "      <td>Males</td>\n",
       "      <td>Western Australia</td>\n",
       "      <td>164</td>\n",
       "      <td>31.1</td>\n",
       "      <td>35.6</td>\n",
       "      <td></td>\n",
       "      <td>C43</td>\n",
       "    </tr>\n",
       "    <tr>\n",
       "      <th>4</th>\n",
       "      <td>Incidence</td>\n",
       "      <td>Melanoma of the skin</td>\n",
       "      <td>1982.0</td>\n",
       "      <td>Males</td>\n",
       "      <td>South Australia</td>\n",
       "      <td>121</td>\n",
       "      <td>21.4</td>\n",
       "      <td>23.1</td>\n",
       "      <td></td>\n",
       "      <td>C43</td>\n",
       "    </tr>\n",
       "  </tbody>\n",
       "</table>\n",
       "</div>"
      ],
      "text/plain": [
       "   Data type     Cancer group/site    Year    Sex State or Territory Count  \\\n",
       "0  Incidence  Melanoma of the skin  1982.0  Males    New South Wales   650   \n",
       "1  Incidence  Melanoma of the skin  1982.0  Males           Victoria   279   \n",
       "2  Incidence  Melanoma of the skin  1982.0  Males         Queensland   472   \n",
       "3  Incidence  Melanoma of the skin  1982.0  Males  Western Australia   164   \n",
       "4  Incidence  Melanoma of the skin  1982.0  Males    South Australia   121   \n",
       "\n",
       "  Age-standardised rate\\n2001 Australian Standard Population \\n(per 100,000)  \\\n",
       "0                                               28.9                           \n",
       "1                                               16.8                           \n",
       "2                                               49.3                           \n",
       "3                                               31.1                           \n",
       "4                                               21.4                           \n",
       "\n",
       "  Age-standardised rate\\n2023 Australian population \\n(per 100,000)  \\\n",
       "0                                               33.1                  \n",
       "1                                               19.2                  \n",
       "2                                               56.9                  \n",
       "3                                               35.6                  \n",
       "4                                               23.1                  \n",
       "\n",
       "  Unnamed: 8 ICD-10 codes  \n",
       "0                     C43  \n",
       "1                     C43  \n",
       "2                     C43  \n",
       "3                     C43  \n",
       "4                     C43  "
      ]
     },
     "execution_count": 17,
     "metadata": {},
     "output_type": "execute_result"
    }
   ],
   "source": [
    "#filter only melanoma cancer group\n",
    "AIHW_df = AIHW_df[AIHW_df['Cancer group/site'].isin(['Melanoma of the skin', 'Non-melanoma skin cancer (rare types)'])]\n",
    "AIHW_df = AIHW_df.reset_index(drop=True)\n",
    "AIHW_df.head()"
   ]
  },
  {
   "cell_type": "code",
   "execution_count": 18,
   "id": "b90da02e-6316-412c-8b4c-d40dba75f7ee",
   "metadata": {
    "tags": []
   },
   "outputs": [
    {
     "data": {
      "text/plain": [
       "(1539, 10)"
      ]
     },
     "execution_count": 18,
     "metadata": {},
     "output_type": "execute_result"
    }
   ],
   "source": [
    "AIHW_df.shape"
   ]
  },
  {
   "cell_type": "code",
   "execution_count": 24,
   "id": "255557ec-2eb3-449e-9e06-c9e070121e1c",
   "metadata": {
    "tags": []
   },
   "outputs": [
    {
     "data": {
      "text/plain": [
       "Data type                                                                      object\n",
       "Cancer group/site                                                              object\n",
       "Year                                                                          float64\n",
       "Sex                                                                            object\n",
       "State or Territory                                                             object\n",
       "Count                                                                          object\n",
       "Age-standardised rate\\n2001 Australian Standard Population \\n(per 100,000)     object\n",
       "Age-standardised rate\\n2023 Australian population \\n(per 100,000)              object\n",
       "Unnamed: 8                                                                     object\n",
       "ICD-10 codes                                                                   object\n",
       "dtype: object"
      ]
     },
     "execution_count": 24,
     "metadata": {},
     "output_type": "execute_result"
    }
   ],
   "source": [
    "AIHW_df.dtypes"
   ]
  },
  {
   "cell_type": "code",
   "execution_count": 19,
   "id": "12089d61-05c0-4d3d-9a9f-3128d4595fd3",
   "metadata": {
    "tags": []
   },
   "outputs": [
    {
     "data": {
      "text/plain": [
       "Data type                                                                     1539\n",
       "Cancer group/site                                                             1539\n",
       "Year                                                                          1539\n",
       "Sex                                                                           1539\n",
       "State or Territory                                                            1539\n",
       "Count                                                                         1539\n",
       "Age-standardised rate\\n2001 Australian Standard Population \\n(per 100,000)    1539\n",
       "Age-standardised rate\\n2023 Australian population \\n(per 100,000)             1539\n",
       "Unnamed: 8                                                                    1539\n",
       "ICD-10 codes                                                                  1539\n",
       "dtype: int64"
      ]
     },
     "execution_count": 19,
     "metadata": {},
     "output_type": "execute_result"
    }
   ],
   "source": [
    "#check for null values\n",
    "AIHW_df.count()"
   ]
  },
  {
   "cell_type": "code",
   "execution_count": 20,
   "id": "16dbbbbe-be46-4520-b22d-fa34ebde27d5",
   "metadata": {
    "tags": []
   },
   "outputs": [],
   "source": [
    "#import csv\n",
    "AIHW_df.to_csv('Cleaned Datasets/AIHW_df.csv')"
   ]
  },
  {
   "cell_type": "markdown",
   "id": "09e62581-e7bf-4f73-8139-0cf2dc4f312e",
   "metadata": {},
   "source": [
    "## Cancer incidence counts, age-specific rates, age-standardised rates (2001 Australian Standard Population, 2023 Australian population, WHO and Segi populations), by sex, age group, actual data from 1982 to 2019 and projections to 2023"
   ]
  },
  {
   "cell_type": "code",
   "execution_count": 31,
   "id": "05137b2b-ac60-49bc-a865-c68a1229e087",
   "metadata": {
    "tags": []
   },
   "outputs": [
    {
     "data": {
      "text/html": [
       "<div>\n",
       "<style scoped>\n",
       "    .dataframe tbody tr th:only-of-type {\n",
       "        vertical-align: middle;\n",
       "    }\n",
       "\n",
       "    .dataframe tbody tr th {\n",
       "        vertical-align: top;\n",
       "    }\n",
       "\n",
       "    .dataframe thead th {\n",
       "        text-align: right;\n",
       "    }\n",
       "</style>\n",
       "<table border=\"1\" class=\"dataframe\">\n",
       "  <thead>\n",
       "    <tr style=\"text-align: right;\">\n",
       "      <th></th>\n",
       "      <th>Data type</th>\n",
       "      <th>Cancer group/site</th>\n",
       "      <th>Year</th>\n",
       "      <th>Sex</th>\n",
       "      <th>Age group (years)</th>\n",
       "      <th>Count</th>\n",
       "      <th>Age-specific rate\\n(per 100,000)</th>\n",
       "      <th>Age-standardised rate\\n2001 Australian Standard Population (per 100,000)</th>\n",
       "      <th>Age-standardised rate\\n2023 Australian population \\n(per 100,000)</th>\n",
       "      <th>Age-standardised rate\\n (WHO) (per 100,000)</th>\n",
       "      <th>Age-standardised rate\\n (Segi) (per 100,000)</th>\n",
       "      <th>Unnamed: 11</th>\n",
       "      <th>ICD10 codes</th>\n",
       "    </tr>\n",
       "  </thead>\n",
       "  <tbody>\n",
       "    <tr>\n",
       "      <th>0</th>\n",
       "      <td>Actual</td>\n",
       "      <td>Acute lymphoblastic leukaemia</td>\n",
       "      <td>1982.0</td>\n",
       "      <td>Males</td>\n",
       "      <td>00–04</td>\n",
       "      <td>42.0</td>\n",
       "      <td>7.1</td>\n",
       "      <td>. .</td>\n",
       "      <td>. .</td>\n",
       "      <td>. .</td>\n",
       "      <td>. .</td>\n",
       "      <td></td>\n",
       "      <td>C91.0</td>\n",
       "    </tr>\n",
       "    <tr>\n",
       "      <th>1</th>\n",
       "      <td>Actual</td>\n",
       "      <td>Acute lymphoblastic leukaemia</td>\n",
       "      <td>1982.0</td>\n",
       "      <td>Males</td>\n",
       "      <td>05–09</td>\n",
       "      <td>25.0</td>\n",
       "      <td>4.0</td>\n",
       "      <td>. .</td>\n",
       "      <td>. .</td>\n",
       "      <td>. .</td>\n",
       "      <td>. .</td>\n",
       "      <td></td>\n",
       "      <td>C91.0</td>\n",
       "    </tr>\n",
       "    <tr>\n",
       "      <th>2</th>\n",
       "      <td>Actual</td>\n",
       "      <td>Acute lymphoblastic leukaemia</td>\n",
       "      <td>1982.0</td>\n",
       "      <td>Males</td>\n",
       "      <td>10–14</td>\n",
       "      <td>14.0</td>\n",
       "      <td>2.0</td>\n",
       "      <td>. .</td>\n",
       "      <td>. .</td>\n",
       "      <td>. .</td>\n",
       "      <td>. .</td>\n",
       "      <td></td>\n",
       "      <td>C91.0</td>\n",
       "    </tr>\n",
       "    <tr>\n",
       "      <th>3</th>\n",
       "      <td>Actual</td>\n",
       "      <td>Acute lymphoblastic leukaemia</td>\n",
       "      <td>1982.0</td>\n",
       "      <td>Males</td>\n",
       "      <td>15–19</td>\n",
       "      <td>14.0</td>\n",
       "      <td>2.1</td>\n",
       "      <td>. .</td>\n",
       "      <td>. .</td>\n",
       "      <td>. .</td>\n",
       "      <td>. .</td>\n",
       "      <td></td>\n",
       "      <td>C91.0</td>\n",
       "    </tr>\n",
       "    <tr>\n",
       "      <th>4</th>\n",
       "      <td>Actual</td>\n",
       "      <td>Acute lymphoblastic leukaemia</td>\n",
       "      <td>1982.0</td>\n",
       "      <td>Males</td>\n",
       "      <td>20–24</td>\n",
       "      <td>5.0</td>\n",
       "      <td>0.7</td>\n",
       "      <td>. .</td>\n",
       "      <td>. .</td>\n",
       "      <td>. .</td>\n",
       "      <td>. .</td>\n",
       "      <td></td>\n",
       "      <td>C91.0</td>\n",
       "    </tr>\n",
       "  </tbody>\n",
       "</table>\n",
       "</div>"
      ],
      "text/plain": [
       "  Data type              Cancer group/site    Year    Sex Age group (years)  \\\n",
       "0    Actual  Acute lymphoblastic leukaemia  1982.0  Males             00–04   \n",
       "1    Actual  Acute lymphoblastic leukaemia  1982.0  Males             05–09   \n",
       "2    Actual  Acute lymphoblastic leukaemia  1982.0  Males             10–14   \n",
       "3    Actual  Acute lymphoblastic leukaemia  1982.0  Males             15–19   \n",
       "4    Actual  Acute lymphoblastic leukaemia  1982.0  Males             20–24   \n",
       "\n",
       "   Count  Age-specific rate\\n(per 100,000)  \\\n",
       "0   42.0                               7.1   \n",
       "1   25.0                               4.0   \n",
       "2   14.0                               2.0   \n",
       "3   14.0                               2.1   \n",
       "4    5.0                               0.7   \n",
       "\n",
       "  Age-standardised rate\\n2001 Australian Standard Population (per 100,000)  \\\n",
       "0                                                . .                         \n",
       "1                                                . .                         \n",
       "2                                                . .                         \n",
       "3                                                . .                         \n",
       "4                                                . .                         \n",
       "\n",
       "  Age-standardised rate\\n2023 Australian population \\n(per 100,000)  \\\n",
       "0                                                . .                  \n",
       "1                                                . .                  \n",
       "2                                                . .                  \n",
       "3                                                . .                  \n",
       "4                                                . .                  \n",
       "\n",
       "  Age-standardised rate\\n (WHO) (per 100,000)  \\\n",
       "0                                         . .   \n",
       "1                                         . .   \n",
       "2                                         . .   \n",
       "3                                         . .   \n",
       "4                                         . .   \n",
       "\n",
       "  Age-standardised rate\\n (Segi) (per 100,000) Unnamed: 11 ICD10 codes  \n",
       "0                                          . .                   C91.0  \n",
       "1                                          . .                   C91.0  \n",
       "2                                          . .                   C91.0  \n",
       "3                                          . .                   C91.0  \n",
       "4                                          . .                   C91.0  "
      ]
     },
     "execution_count": 31,
     "metadata": {},
     "output_type": "execute_result"
    }
   ],
   "source": [
    "#import AIHW dataset\n",
    "import pandas as pd\n",
    "excel_file_path ='Master_Folder/AIHW_Data/aihw-can-122-CDiA-2023-Book-1a-Cancer-incidence-age-standardised-rates-5-year-age-groups.xlsx'\n",
    "sheet_name = 'Table S1a.1'\n",
    "AIHW_cancer_incidence_df = pd.read_excel(excel_file_path, sheet_name=sheet_name, skiprows=5)\n",
    "AIHW_cancer_incidence_df.head()"
   ]
  },
  {
   "cell_type": "code",
   "execution_count": 32,
   "id": "d5e54238-5546-4ef5-8e6b-9ae5da699ddc",
   "metadata": {
    "tags": []
   },
   "outputs": [
    {
     "data": {
      "text/html": [
       "<div>\n",
       "<style scoped>\n",
       "    .dataframe tbody tr th:only-of-type {\n",
       "        vertical-align: middle;\n",
       "    }\n",
       "\n",
       "    .dataframe tbody tr th {\n",
       "        vertical-align: top;\n",
       "    }\n",
       "\n",
       "    .dataframe thead th {\n",
       "        text-align: right;\n",
       "    }\n",
       "</style>\n",
       "<table border=\"1\" class=\"dataframe\">\n",
       "  <thead>\n",
       "    <tr style=\"text-align: right;\">\n",
       "      <th></th>\n",
       "      <th>Data type</th>\n",
       "      <th>Cancer group/site</th>\n",
       "      <th>Year</th>\n",
       "      <th>Sex</th>\n",
       "      <th>Age group (years)</th>\n",
       "      <th>Count</th>\n",
       "      <th>Age-specific rate\\n(per 100,000)</th>\n",
       "      <th>Age-standardised rate\\n2001 Australian Standard Population (per 100,000)</th>\n",
       "      <th>Age-standardised rate\\n2023 Australian population \\n(per 100,000)</th>\n",
       "      <th>Age-standardised rate\\n (WHO) (per 100,000)</th>\n",
       "      <th>Age-standardised rate\\n (Segi) (per 100,000)</th>\n",
       "      <th>Unnamed: 11</th>\n",
       "      <th>ICD10 codes</th>\n",
       "    </tr>\n",
       "  </thead>\n",
       "  <tbody>\n",
       "    <tr>\n",
       "      <th>0</th>\n",
       "      <td>Actual</td>\n",
       "      <td>Melanoma of the skin</td>\n",
       "      <td>1982.0</td>\n",
       "      <td>Males</td>\n",
       "      <td>00–04</td>\n",
       "      <td>0.0</td>\n",
       "      <td>0.0</td>\n",
       "      <td>. .</td>\n",
       "      <td>. .</td>\n",
       "      <td>. .</td>\n",
       "      <td>. .</td>\n",
       "      <td></td>\n",
       "      <td>C43</td>\n",
       "    </tr>\n",
       "    <tr>\n",
       "      <th>1</th>\n",
       "      <td>Actual</td>\n",
       "      <td>Melanoma of the skin</td>\n",
       "      <td>1982.0</td>\n",
       "      <td>Males</td>\n",
       "      <td>05–09</td>\n",
       "      <td>0.0</td>\n",
       "      <td>0.0</td>\n",
       "      <td>. .</td>\n",
       "      <td>. .</td>\n",
       "      <td>. .</td>\n",
       "      <td>. .</td>\n",
       "      <td></td>\n",
       "      <td>C43</td>\n",
       "    </tr>\n",
       "    <tr>\n",
       "      <th>2</th>\n",
       "      <td>Actual</td>\n",
       "      <td>Melanoma of the skin</td>\n",
       "      <td>1982.0</td>\n",
       "      <td>Males</td>\n",
       "      <td>10–14</td>\n",
       "      <td>6.0</td>\n",
       "      <td>0.9</td>\n",
       "      <td>. .</td>\n",
       "      <td>. .</td>\n",
       "      <td>. .</td>\n",
       "      <td>. .</td>\n",
       "      <td></td>\n",
       "      <td>C43</td>\n",
       "    </tr>\n",
       "    <tr>\n",
       "      <th>3</th>\n",
       "      <td>Actual</td>\n",
       "      <td>Melanoma of the skin</td>\n",
       "      <td>1982.0</td>\n",
       "      <td>Males</td>\n",
       "      <td>15–19</td>\n",
       "      <td>30.0</td>\n",
       "      <td>4.6</td>\n",
       "      <td>. .</td>\n",
       "      <td>. .</td>\n",
       "      <td>. .</td>\n",
       "      <td>. .</td>\n",
       "      <td></td>\n",
       "      <td>C43</td>\n",
       "    </tr>\n",
       "    <tr>\n",
       "      <th>4</th>\n",
       "      <td>Actual</td>\n",
       "      <td>Melanoma of the skin</td>\n",
       "      <td>1982.0</td>\n",
       "      <td>Males</td>\n",
       "      <td>20–24</td>\n",
       "      <td>52.0</td>\n",
       "      <td>7.7</td>\n",
       "      <td>. .</td>\n",
       "      <td>. .</td>\n",
       "      <td>. .</td>\n",
       "      <td>. .</td>\n",
       "      <td></td>\n",
       "      <td>C43</td>\n",
       "    </tr>\n",
       "  </tbody>\n",
       "</table>\n",
       "</div>"
      ],
      "text/plain": [
       "  Data type     Cancer group/site    Year    Sex Age group (years)  Count  \\\n",
       "0    Actual  Melanoma of the skin  1982.0  Males             00–04    0.0   \n",
       "1    Actual  Melanoma of the skin  1982.0  Males             05–09    0.0   \n",
       "2    Actual  Melanoma of the skin  1982.0  Males             10–14    6.0   \n",
       "3    Actual  Melanoma of the skin  1982.0  Males             15–19   30.0   \n",
       "4    Actual  Melanoma of the skin  1982.0  Males             20–24   52.0   \n",
       "\n",
       "   Age-specific rate\\n(per 100,000)  \\\n",
       "0                               0.0   \n",
       "1                               0.0   \n",
       "2                               0.9   \n",
       "3                               4.6   \n",
       "4                               7.7   \n",
       "\n",
       "  Age-standardised rate\\n2001 Australian Standard Population (per 100,000)  \\\n",
       "0                                                . .                         \n",
       "1                                                . .                         \n",
       "2                                                . .                         \n",
       "3                                                . .                         \n",
       "4                                                . .                         \n",
       "\n",
       "  Age-standardised rate\\n2023 Australian population \\n(per 100,000)  \\\n",
       "0                                                . .                  \n",
       "1                                                . .                  \n",
       "2                                                . .                  \n",
       "3                                                . .                  \n",
       "4                                                . .                  \n",
       "\n",
       "  Age-standardised rate\\n (WHO) (per 100,000)  \\\n",
       "0                                         . .   \n",
       "1                                         . .   \n",
       "2                                         . .   \n",
       "3                                         . .   \n",
       "4                                         . .   \n",
       "\n",
       "  Age-standardised rate\\n (Segi) (per 100,000) Unnamed: 11 ICD10 codes  \n",
       "0                                          . .                     C43  \n",
       "1                                          . .                     C43  \n",
       "2                                          . .                     C43  \n",
       "3                                          . .                     C43  \n",
       "4                                          . .                     C43  "
      ]
     },
     "execution_count": 32,
     "metadata": {},
     "output_type": "execute_result"
    }
   ],
   "source": [
    "#filter only melanoma cancer group\n",
    "AIHW_cancer_incidence_df = AIHW_cancer_incidence_df[AIHW_cancer_incidence_df['Cancer group/site'].isin(['Melanoma of the skin', 'Non-melanoma skin cancer (rare types)'])]\n",
    "AIHW_cancer_incidence_df = AIHW_cancer_incidence_df.reset_index(drop=True)\n",
    "AIHW_cancer_incidence_df.head()"
   ]
  },
  {
   "cell_type": "code",
   "execution_count": 36,
   "id": "b95f38a2-4cd6-4201-8b22-1f5c00458751",
   "metadata": {
    "tags": []
   },
   "outputs": [
    {
     "data": {
      "text/plain": [
       "Index(['Data type', 'Cancer group/site', 'Year', 'Sex', 'Age group (years)',\n",
       "       'Count', 'Age-specific rate\\n(per 100,000)',\n",
       "       'Age-standardised rate\\n2001 Australian Standard Population (per 100,000)',\n",
       "       'Age-standardised rate\\n2023 Australian population \\n(per 100,000)',\n",
       "       'Age-standardised rate\\n (WHO) (per 100,000)',\n",
       "       'Age-standardised rate\\n (Segi) (per 100,000)', 'ICD10 codes'],\n",
       "      dtype='object')"
      ]
     },
     "execution_count": 36,
     "metadata": {},
     "output_type": "execute_result"
    }
   ],
   "source": [
    "AIHW_cancer_incidence_df.columns"
   ]
  },
  {
   "cell_type": "code",
   "execution_count": 33,
   "id": "d9dcf167-1e18-48f3-984f-403f636f1b70",
   "metadata": {
    "tags": []
   },
   "outputs": [
    {
     "data": {
      "text/plain": [
       "(3900, 13)"
      ]
     },
     "execution_count": 33,
     "metadata": {},
     "output_type": "execute_result"
    }
   ],
   "source": [
    "AIHW_cancer_incidence_df.shape"
   ]
  },
  {
   "cell_type": "code",
   "execution_count": 34,
   "id": "7b1a6ba0-3963-49cc-ac02-8acc2a80bde3",
   "metadata": {
    "tags": []
   },
   "outputs": [
    {
     "data": {
      "text/plain": [
       "Data type                                                                    object\n",
       "Cancer group/site                                                            object\n",
       "Year                                                                          int32\n",
       "Sex                                                                          object\n",
       "Age group (years)                                                            object\n",
       "Count                                                                       float64\n",
       "Age-specific rate\\n(per 100,000)                                            float64\n",
       "Age-standardised rate\\n2001 Australian Standard Population (per 100,000)     object\n",
       "Age-standardised rate\\n2023 Australian population \\n(per 100,000)            object\n",
       "Age-standardised rate\\n (WHO) (per 100,000)                                  object\n",
       "Age-standardised rate\\n (Segi) (per 100,000)                                 object\n",
       "Unnamed: 11                                                                  object\n",
       "ICD10 codes                                                                  object\n",
       "dtype: object"
      ]
     },
     "metadata": {},
     "output_type": "display_data"
    }
   ],
   "source": [
    "#change data type for year\n",
    "AIHW_cancer_incidence_df['Year'] = AIHW_cancer_incidence_df['Year'].astype(int)\n",
    "display(AIHW_cancer_incidence_df.dtypes)"
   ]
  },
  {
   "cell_type": "code",
   "execution_count": 35,
   "id": "7d79f4a6-08fd-4775-9e56-2fa5416e7538",
   "metadata": {
    "tags": []
   },
   "outputs": [],
   "source": [
    "# delete \"unnamed\" column\n",
    "del AIHW_cancer_incidence_df['Unnamed: 11']"
   ]
  },
  {
   "cell_type": "code",
   "execution_count": 55,
   "id": "37117a7b-342a-4db5-b377-c00ba7d2816c",
   "metadata": {
    "tags": []
   },
   "outputs": [],
   "source": [
    "AIHW_cancer_incidence_df['Age group (years)'] = AIHW_cancer_incidence_df['Age group (years)'].str.replace('–', '_')"
   ]
  },
  {
   "cell_type": "code",
   "execution_count": 56,
   "id": "98b7fe46-5b36-4055-87f2-f170c1ef5295",
   "metadata": {
    "tags": []
   },
   "outputs": [
    {
     "data": {
      "text/html": [
       "<div>\n",
       "<style scoped>\n",
       "    .dataframe tbody tr th:only-of-type {\n",
       "        vertical-align: middle;\n",
       "    }\n",
       "\n",
       "    .dataframe tbody tr th {\n",
       "        vertical-align: top;\n",
       "    }\n",
       "\n",
       "    .dataframe thead th {\n",
       "        text-align: right;\n",
       "    }\n",
       "</style>\n",
       "<table border=\"1\" class=\"dataframe\">\n",
       "  <thead>\n",
       "    <tr style=\"text-align: right;\">\n",
       "      <th></th>\n",
       "      <th>Data type</th>\n",
       "      <th>Cancer group/site</th>\n",
       "      <th>Year</th>\n",
       "      <th>Sex</th>\n",
       "      <th>Age group (years)</th>\n",
       "      <th>Count</th>\n",
       "      <th>Age-specific rate\\n(per 100,000)</th>\n",
       "      <th>Age-standardised rate\\n2001 Australian Standard Population (per 100,000)</th>\n",
       "      <th>Age-standardised rate\\n2023 Australian population \\n(per 100,000)</th>\n",
       "      <th>Age-standardised rate\\n (WHO) (per 100,000)</th>\n",
       "      <th>Age-standardised rate\\n (Segi) (per 100,000)</th>\n",
       "      <th>ICD10 codes</th>\n",
       "    </tr>\n",
       "  </thead>\n",
       "  <tbody>\n",
       "    <tr>\n",
       "      <th>0</th>\n",
       "      <td>Actual</td>\n",
       "      <td>Melanoma of the skin</td>\n",
       "      <td>1982</td>\n",
       "      <td>Males</td>\n",
       "      <td>00_04</td>\n",
       "      <td>0.0</td>\n",
       "      <td>0.0</td>\n",
       "      <td>. .</td>\n",
       "      <td>. .</td>\n",
       "      <td>. .</td>\n",
       "      <td>. .</td>\n",
       "      <td>C43</td>\n",
       "    </tr>\n",
       "    <tr>\n",
       "      <th>1</th>\n",
       "      <td>Actual</td>\n",
       "      <td>Melanoma of the skin</td>\n",
       "      <td>1982</td>\n",
       "      <td>Males</td>\n",
       "      <td>05_09</td>\n",
       "      <td>0.0</td>\n",
       "      <td>0.0</td>\n",
       "      <td>. .</td>\n",
       "      <td>. .</td>\n",
       "      <td>. .</td>\n",
       "      <td>. .</td>\n",
       "      <td>C43</td>\n",
       "    </tr>\n",
       "    <tr>\n",
       "      <th>2</th>\n",
       "      <td>Actual</td>\n",
       "      <td>Melanoma of the skin</td>\n",
       "      <td>1982</td>\n",
       "      <td>Males</td>\n",
       "      <td>10_14</td>\n",
       "      <td>6.0</td>\n",
       "      <td>0.9</td>\n",
       "      <td>. .</td>\n",
       "      <td>. .</td>\n",
       "      <td>. .</td>\n",
       "      <td>. .</td>\n",
       "      <td>C43</td>\n",
       "    </tr>\n",
       "    <tr>\n",
       "      <th>3</th>\n",
       "      <td>Actual</td>\n",
       "      <td>Melanoma of the skin</td>\n",
       "      <td>1982</td>\n",
       "      <td>Males</td>\n",
       "      <td>15_19</td>\n",
       "      <td>30.0</td>\n",
       "      <td>4.6</td>\n",
       "      <td>. .</td>\n",
       "      <td>. .</td>\n",
       "      <td>. .</td>\n",
       "      <td>. .</td>\n",
       "      <td>C43</td>\n",
       "    </tr>\n",
       "    <tr>\n",
       "      <th>4</th>\n",
       "      <td>Actual</td>\n",
       "      <td>Melanoma of the skin</td>\n",
       "      <td>1982</td>\n",
       "      <td>Males</td>\n",
       "      <td>20_24</td>\n",
       "      <td>52.0</td>\n",
       "      <td>7.7</td>\n",
       "      <td>. .</td>\n",
       "      <td>. .</td>\n",
       "      <td>. .</td>\n",
       "      <td>. .</td>\n",
       "      <td>C43</td>\n",
       "    </tr>\n",
       "  </tbody>\n",
       "</table>\n",
       "</div>"
      ],
      "text/plain": [
       "  Data type     Cancer group/site  Year    Sex Age group (years)  Count  \\\n",
       "0    Actual  Melanoma of the skin  1982  Males             00_04    0.0   \n",
       "1    Actual  Melanoma of the skin  1982  Males             05_09    0.0   \n",
       "2    Actual  Melanoma of the skin  1982  Males             10_14    6.0   \n",
       "3    Actual  Melanoma of the skin  1982  Males             15_19   30.0   \n",
       "4    Actual  Melanoma of the skin  1982  Males             20_24   52.0   \n",
       "\n",
       "   Age-specific rate\\n(per 100,000)  \\\n",
       "0                               0.0   \n",
       "1                               0.0   \n",
       "2                               0.9   \n",
       "3                               4.6   \n",
       "4                               7.7   \n",
       "\n",
       "  Age-standardised rate\\n2001 Australian Standard Population (per 100,000)  \\\n",
       "0                                                . .                         \n",
       "1                                                . .                         \n",
       "2                                                . .                         \n",
       "3                                                . .                         \n",
       "4                                                . .                         \n",
       "\n",
       "  Age-standardised rate\\n2023 Australian population \\n(per 100,000)  \\\n",
       "0                                                . .                  \n",
       "1                                                . .                  \n",
       "2                                                . .                  \n",
       "3                                                . .                  \n",
       "4                                                . .                  \n",
       "\n",
       "  Age-standardised rate\\n (WHO) (per 100,000)  \\\n",
       "0                                         . .   \n",
       "1                                         . .   \n",
       "2                                         . .   \n",
       "3                                         . .   \n",
       "4                                         . .   \n",
       "\n",
       "  Age-standardised rate\\n (Segi) (per 100,000) ICD10 codes  \n",
       "0                                          . .         C43  \n",
       "1                                          . .         C43  \n",
       "2                                          . .         C43  \n",
       "3                                          . .         C43  \n",
       "4                                          . .         C43  "
      ]
     },
     "execution_count": 56,
     "metadata": {},
     "output_type": "execute_result"
    }
   ],
   "source": [
    "AIHW_cancer_incidence_df.head()"
   ]
  },
  {
   "cell_type": "code",
   "execution_count": 57,
   "id": "6abe7019-bc64-4d3f-9f84-e66fa8926dd4",
   "metadata": {
    "tags": []
   },
   "outputs": [],
   "source": [
    "#import csv\n",
    "AIHW_cancer_incidence_df.to_csv('Cleaned Datasets/AIHW_cancer_incidence_df.csv')"
   ]
  },
  {
   "cell_type": "markdown",
   "id": "5c9368f8-75ec-4cae-bd3e-d837f4111843",
   "metadata": {},
   "source": [
    "## aihw-can-122-cancer-data-commentaries"
   ]
  },
  {
   "cell_type": "code",
   "execution_count": 29,
   "id": "542dde7b-1c55-4fd3-955e-758cc1524513",
   "metadata": {
    "tags": []
   },
   "outputs": [
    {
     "data": {
      "text/html": [
       "<div>\n",
       "<style scoped>\n",
       "    .dataframe tbody tr th:only-of-type {\n",
       "        vertical-align: middle;\n",
       "    }\n",
       "\n",
       "    .dataframe tbody tr th {\n",
       "        vertical-align: top;\n",
       "    }\n",
       "\n",
       "    .dataframe thead th {\n",
       "        text-align: right;\n",
       "    }\n",
       "</style>\n",
       "<table border=\"1\" class=\"dataframe\">\n",
       "  <thead>\n",
       "    <tr style=\"text-align: right;\">\n",
       "      <th></th>\n",
       "      <th>Year</th>\n",
       "      <th>Sex</th>\n",
       "      <th>Age range (years)</th>\n",
       "      <th>Risk of diagnosis (%)</th>\n",
       "      <th>Risk of diagnosis (1 in X)</th>\n",
       "      <th>Unnamed: 5</th>\n",
       "      <th>Risk of death (%)</th>\n",
       "      <th>Risk of death (1 in X)</th>\n",
       "      <th>Unnamed: 8</th>\n",
       "      <th>ICD10 codes</th>\n",
       "      <th>Unnamed: 10</th>\n",
       "      <th>Background data:\\nCumulative number of\\n people diagnosed</th>\n",
       "      <th>Background data:\\nCumulative number of\\n deaths</th>\n",
       "    </tr>\n",
       "  </thead>\n",
       "  <tbody>\n",
       "    <tr>\n",
       "      <th>0</th>\n",
       "      <td>1982</td>\n",
       "      <td>Males</td>\n",
       "      <td>Lifetime</td>\n",
       "      <td>0.021094</td>\n",
       "      <td>47</td>\n",
       "      <td></td>\n",
       "      <td>0.004927</td>\n",
       "      <td>203</td>\n",
       "      <td></td>\n",
       "      <td>C43</td>\n",
       "      <td></td>\n",
       "      <td>1738</td>\n",
       "      <td>380</td>\n",
       "    </tr>\n",
       "    <tr>\n",
       "      <th>1</th>\n",
       "      <td>1983</td>\n",
       "      <td>Males</td>\n",
       "      <td>Lifetime</td>\n",
       "      <td>0.022366</td>\n",
       "      <td>45</td>\n",
       "      <td></td>\n",
       "      <td>0.004785</td>\n",
       "      <td>209</td>\n",
       "      <td></td>\n",
       "      <td>C43</td>\n",
       "      <td></td>\n",
       "      <td>1819</td>\n",
       "      <td>362</td>\n",
       "    </tr>\n",
       "    <tr>\n",
       "      <th>2</th>\n",
       "      <td>1984</td>\n",
       "      <td>Males</td>\n",
       "      <td>Lifetime</td>\n",
       "      <td>0.024349</td>\n",
       "      <td>41</td>\n",
       "      <td></td>\n",
       "      <td>0.005136</td>\n",
       "      <td>195</td>\n",
       "      <td></td>\n",
       "      <td>C43</td>\n",
       "      <td></td>\n",
       "      <td>1993</td>\n",
       "      <td>397</td>\n",
       "    </tr>\n",
       "    <tr>\n",
       "      <th>3</th>\n",
       "      <td>1985</td>\n",
       "      <td>Males</td>\n",
       "      <td>Lifetime</td>\n",
       "      <td>0.026498</td>\n",
       "      <td>38</td>\n",
       "      <td></td>\n",
       "      <td>0.005188</td>\n",
       "      <td>193</td>\n",
       "      <td></td>\n",
       "      <td>C43</td>\n",
       "      <td></td>\n",
       "      <td>2218</td>\n",
       "      <td>403</td>\n",
       "    </tr>\n",
       "    <tr>\n",
       "      <th>4</th>\n",
       "      <td>1986</td>\n",
       "      <td>Males</td>\n",
       "      <td>Lifetime</td>\n",
       "      <td>0.028470</td>\n",
       "      <td>35</td>\n",
       "      <td></td>\n",
       "      <td>0.005621</td>\n",
       "      <td>178</td>\n",
       "      <td></td>\n",
       "      <td>C43</td>\n",
       "      <td></td>\n",
       "      <td>2403</td>\n",
       "      <td>418</td>\n",
       "    </tr>\n",
       "  </tbody>\n",
       "</table>\n",
       "</div>"
      ],
      "text/plain": [
       "   Year    Sex Age range (years)  Risk of diagnosis (%)  \\\n",
       "0  1982  Males          Lifetime               0.021094   \n",
       "1  1983  Males          Lifetime               0.022366   \n",
       "2  1984  Males          Lifetime               0.024349   \n",
       "3  1985  Males          Lifetime               0.026498   \n",
       "4  1986  Males          Lifetime               0.028470   \n",
       "\n",
       "   Risk of diagnosis (1 in X) Unnamed: 5  Risk of death (%)  \\\n",
       "0                          47                      0.004927   \n",
       "1                          45                      0.004785   \n",
       "2                          41                      0.005136   \n",
       "3                          38                      0.005188   \n",
       "4                          35                      0.005621   \n",
       "\n",
       "   Risk of death (1 in X) Unnamed: 8 ICD10 codes Unnamed: 10  \\\n",
       "0                     203                    C43               \n",
       "1                     209                    C43               \n",
       "2                     195                    C43               \n",
       "3                     193                    C43               \n",
       "4                     178                    C43               \n",
       "\n",
       "   Background data:\\nCumulative number of\\n people diagnosed  \\\n",
       "0                                               1738           \n",
       "1                                               1819           \n",
       "2                                               1993           \n",
       "3                                               2218           \n",
       "4                                               2403           \n",
       "\n",
       "   Background data:\\nCumulative number of\\n deaths  \n",
       "0                                              380  \n",
       "1                                              362  \n",
       "2                                              397  \n",
       "3                                              403  \n",
       "4                                              418  "
      ]
     },
     "execution_count": 29,
     "metadata": {},
     "output_type": "execute_result"
    }
   ],
   "source": [
    "#import AIHW dataset\n",
    "import pandas as pd\n",
    "excel_file_path ='Master_Folder/AIHW_Data/aihw-can-122-cancer-data-commentaries.xlsx'\n",
    "sheet_name = 'Table S4'\n",
    "AIHW_cancer_risk_df = pd.read_excel(excel_file_path, sheet_name=sheet_name, skiprows=2, nrows=79)\n",
    "AIHW_cancer_risk_df.head()"
   ]
  },
  {
   "cell_type": "code",
   "execution_count": 30,
   "id": "8a204423-1dca-49a5-877d-91a6fa283d7a",
   "metadata": {
    "tags": []
   },
   "outputs": [
    {
     "data": {
      "text/plain": [
       "Index(['Year', 'Sex', 'Age range (years)', 'Risk of diagnosis (%)',\n",
       "       'Risk of diagnosis (1 in X)', 'Unnamed: 5', 'Risk of death (%)',\n",
       "       'Risk of death (1 in X)', 'Unnamed: 8', 'ICD10 codes', 'Unnamed: 10',\n",
       "       'Background data:\\nCumulative number of\\n people diagnosed',\n",
       "       'Background data:\\nCumulative number of\\n deaths'],\n",
       "      dtype='object')"
      ]
     },
     "execution_count": 30,
     "metadata": {},
     "output_type": "execute_result"
    }
   ],
   "source": [
    "AIHW_cancer_risk_df.columns"
   ]
  },
  {
   "cell_type": "code",
   "execution_count": 31,
   "id": "69041274-0daf-4dd6-9a9f-7332d8ffef81",
   "metadata": {
    "tags": []
   },
   "outputs": [],
   "source": [
    "#delete unnamed columns\n",
    "AIHW_cancer_risk_df = AIHW_cancer_risk_df.drop(columns = ['Unnamed: 5', 'Unnamed: 8', 'Unnamed: 10'])"
   ]
  },
  {
   "cell_type": "code",
   "execution_count": 32,
   "id": "39b18a99-f10e-4b63-a2b6-798975753511",
   "metadata": {
    "tags": []
   },
   "outputs": [],
   "source": [
    "#rename columns\n",
    "AIHW_cancer_risk_df = AIHW_cancer_risk_df.rename(columns = \n",
    "                                                 {'Background data:\\nCumulative number of\\n people diagnosed' : \"Cumulative number of people diagnosed\" , \n",
    "                                                  'Background data:\\nCumulative number of\\n deaths' : 'Cumulative number of deaths'}\n",
    "                                                )"
   ]
  },
  {
   "cell_type": "code",
   "execution_count": 33,
   "id": "6ba8ec0f-648f-4cb5-af3a-eed1ad5fc173",
   "metadata": {
    "tags": []
   },
   "outputs": [
    {
     "data": {
      "text/html": [
       "<div>\n",
       "<style scoped>\n",
       "    .dataframe tbody tr th:only-of-type {\n",
       "        vertical-align: middle;\n",
       "    }\n",
       "\n",
       "    .dataframe tbody tr th {\n",
       "        vertical-align: top;\n",
       "    }\n",
       "\n",
       "    .dataframe thead th {\n",
       "        text-align: right;\n",
       "    }\n",
       "</style>\n",
       "<table border=\"1\" class=\"dataframe\">\n",
       "  <thead>\n",
       "    <tr style=\"text-align: right;\">\n",
       "      <th></th>\n",
       "      <th>Year</th>\n",
       "      <th>Sex</th>\n",
       "      <th>Age range (years)</th>\n",
       "      <th>Risk of diagnosis (%)</th>\n",
       "      <th>Risk of diagnosis (1 in X)</th>\n",
       "      <th>Risk of death (%)</th>\n",
       "      <th>Risk of death (1 in X)</th>\n",
       "      <th>ICD10 codes</th>\n",
       "      <th>Cumulative number of people diagnosed</th>\n",
       "      <th>Cumulative number of deaths</th>\n",
       "    </tr>\n",
       "  </thead>\n",
       "  <tbody>\n",
       "    <tr>\n",
       "      <th>0</th>\n",
       "      <td>1982</td>\n",
       "      <td>Males</td>\n",
       "      <td>Lifetime</td>\n",
       "      <td>0.021094</td>\n",
       "      <td>47</td>\n",
       "      <td>0.004927</td>\n",
       "      <td>203</td>\n",
       "      <td>C43</td>\n",
       "      <td>1738</td>\n",
       "      <td>380</td>\n",
       "    </tr>\n",
       "    <tr>\n",
       "      <th>1</th>\n",
       "      <td>1983</td>\n",
       "      <td>Males</td>\n",
       "      <td>Lifetime</td>\n",
       "      <td>0.022366</td>\n",
       "      <td>45</td>\n",
       "      <td>0.004785</td>\n",
       "      <td>209</td>\n",
       "      <td>C43</td>\n",
       "      <td>1819</td>\n",
       "      <td>362</td>\n",
       "    </tr>\n",
       "    <tr>\n",
       "      <th>2</th>\n",
       "      <td>1984</td>\n",
       "      <td>Males</td>\n",
       "      <td>Lifetime</td>\n",
       "      <td>0.024349</td>\n",
       "      <td>41</td>\n",
       "      <td>0.005136</td>\n",
       "      <td>195</td>\n",
       "      <td>C43</td>\n",
       "      <td>1993</td>\n",
       "      <td>397</td>\n",
       "    </tr>\n",
       "    <tr>\n",
       "      <th>3</th>\n",
       "      <td>1985</td>\n",
       "      <td>Males</td>\n",
       "      <td>Lifetime</td>\n",
       "      <td>0.026498</td>\n",
       "      <td>38</td>\n",
       "      <td>0.005188</td>\n",
       "      <td>193</td>\n",
       "      <td>C43</td>\n",
       "      <td>2218</td>\n",
       "      <td>403</td>\n",
       "    </tr>\n",
       "    <tr>\n",
       "      <th>4</th>\n",
       "      <td>1986</td>\n",
       "      <td>Males</td>\n",
       "      <td>Lifetime</td>\n",
       "      <td>0.028470</td>\n",
       "      <td>35</td>\n",
       "      <td>0.005621</td>\n",
       "      <td>178</td>\n",
       "      <td>C43</td>\n",
       "      <td>2403</td>\n",
       "      <td>418</td>\n",
       "    </tr>\n",
       "  </tbody>\n",
       "</table>\n",
       "</div>"
      ],
      "text/plain": [
       "   Year    Sex Age range (years)  Risk of diagnosis (%)  \\\n",
       "0  1982  Males          Lifetime               0.021094   \n",
       "1  1983  Males          Lifetime               0.022366   \n",
       "2  1984  Males          Lifetime               0.024349   \n",
       "3  1985  Males          Lifetime               0.026498   \n",
       "4  1986  Males          Lifetime               0.028470   \n",
       "\n",
       "   Risk of diagnosis (1 in X)  Risk of death (%)  Risk of death (1 in X)  \\\n",
       "0                          47           0.004927                     203   \n",
       "1                          45           0.004785                     209   \n",
       "2                          41           0.005136                     195   \n",
       "3                          38           0.005188                     193   \n",
       "4                          35           0.005621                     178   \n",
       "\n",
       "  ICD10 codes  Cumulative number of people diagnosed  \\\n",
       "0         C43                                   1738   \n",
       "1         C43                                   1819   \n",
       "2         C43                                   1993   \n",
       "3         C43                                   2218   \n",
       "4         C43                                   2403   \n",
       "\n",
       "   Cumulative number of deaths  \n",
       "0                          380  \n",
       "1                          362  \n",
       "2                          397  \n",
       "3                          403  \n",
       "4                          418  "
      ]
     },
     "execution_count": 33,
     "metadata": {},
     "output_type": "execute_result"
    }
   ],
   "source": [
    "AIHW_cancer_risk_df.head()"
   ]
  },
  {
   "cell_type": "code",
   "execution_count": 34,
   "id": "3535cf10-feb5-42f2-a889-577d2d37b511",
   "metadata": {
    "tags": []
   },
   "outputs": [
    {
     "data": {
      "text/plain": [
       "Year                                       int64\n",
       "Sex                                       object\n",
       "Age range (years)                         object\n",
       "Risk of diagnosis (%)                    float64\n",
       "Risk of diagnosis (1 in X)                 int64\n",
       "Risk of death (%)                        float64\n",
       "Risk of death (1 in X)                     int64\n",
       "ICD10 codes                               object\n",
       "Cumulative number of people diagnosed      int64\n",
       "Cumulative number of deaths                int64\n",
       "dtype: object"
      ]
     },
     "execution_count": 34,
     "metadata": {},
     "output_type": "execute_result"
    }
   ],
   "source": [
    "AIHW_cancer_risk_df.dtypes"
   ]
  },
  {
   "cell_type": "code",
   "execution_count": 36,
   "id": "4af921cb-e20d-43c4-923b-f1f79f16defd",
   "metadata": {
    "tags": []
   },
   "outputs": [],
   "source": [
    "#change data type for year\n",
    "AIHW_cancer_risk_df[['Year', 'Cumulative number of people diagnosed', 'Cumulative number of deaths']] = AIHW_cancer_risk_df[['Year', 'Cumulative number of people diagnosed', 'Cumulative number of deaths']].astype(int)"
   ]
  },
  {
   "cell_type": "code",
   "execution_count": 37,
   "id": "4ed56c73-27ea-4b9f-9f70-f5103155aca8",
   "metadata": {
    "tags": []
   },
   "outputs": [
    {
     "data": {
      "text/plain": [
       "Year                                       int32\n",
       "Sex                                       object\n",
       "Age range (years)                         object\n",
       "Risk of diagnosis (%)                    float64\n",
       "Risk of diagnosis (1 in X)                 int64\n",
       "Risk of death (%)                        float64\n",
       "Risk of death (1 in X)                     int64\n",
       "ICD10 codes                               object\n",
       "Cumulative number of people diagnosed      int32\n",
       "Cumulative number of deaths                int32\n",
       "dtype: object"
      ]
     },
     "execution_count": 37,
     "metadata": {},
     "output_type": "execute_result"
    }
   ],
   "source": [
    "AIHW_cancer_risk_df.dtypes"
   ]
  },
  {
   "cell_type": "code",
   "execution_count": 38,
   "id": "d14a7fd2-3a7b-4fb0-b66a-e8235c439500",
   "metadata": {
    "tags": []
   },
   "outputs": [],
   "source": [
    "#import csv\n",
    "AIHW_cancer_risk_df.to_csv('Cleaned Datasets/AIHW_cancer_risk_df.csv')"
   ]
  },
  {
   "cell_type": "markdown",
   "source": [
    "Importing libraries"
   ],
   "metadata": {
    "collapsed": false
   },
   "id": "83fbc7055506c676"
  },
  {
   "cell_type": "code",
   "outputs": [],
   "source": [
    "import pandas as pd, kaggle, requests"
   ],
   "metadata": {
    "collapsed": false
   },
   "id": "d104e40858e5ac3f"
  },
  {
   "cell_type": "markdown",
   "source": [
    "Data Download  from \"DATA.GOV.AU\" through API"
   ],
   "metadata": {
    "collapsed": false
   },
   "id": "e8c60715c744259a"
  },
  {
   "cell_type": "code",
   "outputs": [],
   "source": [
    "data_df = requests.get(\"https://data.gov.au/data/api/3/action/package_show?id=488ef6d4-c763-4b24-b8fb-9c15b67ece19\").json()"
   ],
   "metadata": {
    "collapsed": false
   },
   "id": "a7bd075a68110ec5"
  },
  {
   "cell_type": "code",
   "outputs": [],
   "source": [
    "aihw_data_df = requests.get(\"https://data.gov.au/data/api/3/action/package_show?id=05696f6f-6ff5-42a2-904f-af5e4d1f56f8\").json()"
   ],
   "metadata": {
    "collapsed": false
   },
   "id": "1b4feb671134f4d0"
  },
  {
   "cell_type": "code",
   "outputs": [],
   "source": [
    "url = data_df['result']['resources'][0]['url']\n",
    "\n",
    "aihw_url = aihw_data_df['result']['resources']"
   ],
   "metadata": {
    "collapsed": false
   },
   "id": "cb7155bbd26f14e0"
  },
  {
   "cell_type": "code",
   "outputs": [],
   "source": [
    "csv = []\n",
    "for i in range(0, len(aihw_url)):\n",
    "    csv.append(aihw_url[i]['url'])"
   ],
   "metadata": {
    "collapsed": false
   },
   "id": "4a9f5a57c5aa2a91"
  },
  {
   "cell_type": "code",
   "outputs": [],
   "source": [
    "open('Project_Datasets/AIHW_Data/General Record of Incidence of Mortality.csv', 'wb').write(requests.get(url).content)\n",
    "\n",
    "open('Project_Datasets/AIHW_Data/ACIM Combined Counts.csv', 'wb').write(requests.get(csv[0]).content)\n",
    "\n",
    "open('Project_Datasets/AIHW_Data/ACIM Combined Rates.csv', 'wb').write(requests.get(csv[1]).content)\n",
    "\n",
    "open('Project_Datasets/AIHW_Data/ACIM Combined Ratio.csv', 'wb').write(requests.get(csv[2]).content)"
   ],
   "metadata": {
    "collapsed": false
   },
   "id": "23d984248676592a"
  },
  {
   "cell_type": "code",
   "outputs": [],
   "source": [
    "ISIC_data = pd.read_json('Project_Datasets/GCO_Dataset.json')\n",
    "\n",
    "ISIC_data.to_csv('Project_Datasets/WHO_Data/GCO_Dataset.csv', index=False)"
   ],
   "metadata": {
    "collapsed": false
   },
   "id": "5c3ac54f6560569a"
  },
  {
   "cell_type": "markdown",
   "source": [
    "Data Cleaning"
   ],
   "metadata": {
    "collapsed": false
   },
   "id": "ce0769eaf3d1db41"
  },
  {
   "cell_type": "code",
   "outputs": [],
   "source": [
    "projected = pd.read_csv('Project_Datasets/WHO_Data/GCO_Dataset.csv').drop(columns=['population', 'risk', 'type', 'sex', 'id', 'cancer', 'APC', 'cases_base'])"
   ],
   "metadata": {
    "collapsed": false
   },
   "id": "af8b9b6f12781bb3"
  },
  {
   "cell_type": "code",
   "outputs": [],
   "source": [
    "projected.rename(\n",
    "    columns={'year': 'Year', 'id_label': 'Country', 'cancer_label': 'Cancer_Type', 'cases_pred': \"Predicted_Cases\",\n",
    "             'pop': 'Population', 'change': 'Predicted_Increase',\n",
    "             'percent': 'Predicted_Percentage_Change'}).to_csv('Cleaned Datasets/GCO_Pred_Data.csv', index=False)"
   ],
   "metadata": {
    "collapsed": false
   },
   "id": "aea74d99a5725e9e"
  },
  {
   "cell_type": "code",
   "outputs": [],
   "source": [
    "WHO_data = pd.read_csv(\n",
    "    'Project_Datasets/WHO_Data/WHOMortalityDatabase_Map_Melanoma and other skin cancers_19th December 2023 23 15.csv',\n",
    "    skiprows=6, index_col=False)"
   ],
   "metadata": {
    "collapsed": false
   },
   "id": "249527ce7a53ec4e"
  },
  {
   "cell_type": "code",
   "outputs": [],
   "source": [
    "WHO_data = WHO_data.drop(columns=['Region Code', 'Region Name', 'Country Code', 'Age group code']).fillna(0).replace(\n",
    "    \"T?rkiye\", \"Turkey\")"
   ],
   "metadata": {
    "collapsed": false
   },
   "id": "6e737b473572be2c"
  },
  {
   "cell_type": "code",
   "outputs": [],
   "source": [
    "WHO_data['Age Group'] = WHO_data['Age Group'].str.strip('[]')"
   ],
   "metadata": {
    "collapsed": false
   },
   "id": "b87ca8a60921ccd3"
  },
  {
   "cell_type": "code",
   "outputs": [],
   "source": [
    "WHO_data.to_csv(\"Cleaned Datasets/WHO_Dataset.csv\", index=False)"
   ],
   "metadata": {
    "collapsed": false
   },
   "id": "3b2f7e88baa7bc48"
  },
  {
   "cell_type": "code",
   "outputs": [],
   "source": [
    "GRIM_data = pd.read_excel('Project_Datasets/AIHW_Data/General Record of Incidence of Mortality.xlsx')"
   ],
   "metadata": {
    "collapsed": false
   },
   "id": "8390dec7d9a9792e"
  },
  {
   "cell_type": "code",
   "outputs": [],
   "source": [
    "grim_df = GRIM_data.drop(columns=['grim']).fillna(0).replace([\"Missing\", \"Total\", \"Skin cancer (ICD-10 C43, C44)\"],\n",
    "                                                             [\"Unknown\", \"All\", \"Skin Cancer\"])"
   ],
   "metadata": {
    "collapsed": false
   },
   "id": "e142c2fc021e8be3"
  },
  {
   "cell_type": "code",
   "outputs": [],
   "source": [
    "grim_df = grim_df[grim_df['cause_of_death'].isin(['Skin Cancer'])].rename(columns={'cause_of_death': 'Cause of '\n",
    "                                                                                                     'Mortality'})"
   ],
   "metadata": {
    "collapsed": false
   },
   "id": "d66bdee90f343fd"
  },
  {
   "cell_type": "code",
   "outputs": [],
   "source": [
    "grim_df.to_excel('Cleaned Datasets/GRIM_Mortality_Data.xlsx', index=False)"
   ],
   "metadata": {
    "collapsed": false
   },
   "id": "78838ac0c0bf9f6f"
  },
  {
   "cell_type": "code",
   "outputs": [],
   "source": [
    "Cancer_data = pd.read_excel('Project_Datasets/AIHW_Data/aihw-can-122-cancer-data-commentaries.xlsx',\n",
    "                            sheet_name='Table S4', skiprows=2, nrows=79)"
   ],
   "metadata": {
    "collapsed": false
   },
   "id": "58f3a1a25750ee42"
  },
  {
   "cell_type": "code",
   "outputs": [],
   "source": [
    "Cancer_data = Cancer_data.drop(\n",
    "    columns=['Age range (years)', 'Unnamed: 5', 'Unnamed: 8', 'ICD10 codes', 'Unnamed: 10']).rename(\n",
    "    columns={'Background data:\\nCumulative number of\\n people diagnosed': 'Cumulative number of people diagnosed',\n",
    "             'Background data:\\nCumulative number of\\n deaths': 'Cumulative number of deaths'})"
   ],
   "metadata": {
    "collapsed": false
   },
   "id": "4efa76d3861b27ac"
  },
  {
   "cell_type": "code",
   "outputs": [],
   "source": [
    "Cancer_data.to_excel('Cleaned Datasets/AIHW_Cancer_Commentaries.xlsx', index=False)"
   ],
   "metadata": {
    "collapsed": false
   },
   "id": "12ada34b8a9c660f"
  },
  {
   "cell_type": "markdown",
   "source": [
    "Downloading Datasets from Kaggle"
   ],
   "metadata": {
    "collapsed": false
   },
   "id": "6e9b75058b2489dd"
  },
  {
   "cell_type": "code",
   "outputs": [],
   "source": [
    "#!pip install kaggle"
   ],
   "metadata": {
    "collapsed": false
   },
   "id": "3c789336ba291aa"
  },
  {
   "cell_type": "code",
   "outputs": [],
   "source": [
    "#kaggle.api.authenticate()"
   ],
   "metadata": {
    "collapsed": false
   },
   "id": "f080f453b94b90d"
  },
  {
   "cell_type": "code",
   "outputs": [],
   "source": [
    "# kaggle.api.dataset_download_files('bhanuprasanna/isic-2019', path='Project_Datasets/', unzip=True)"
   ],
   "metadata": {
    "collapsed": false
   },
   "id": "efa23dccde3edfc8"
  },
  {
   "cell_type": "code",
   "outputs": [],
   "source": [
    "# kaggle.api.dataset_download_files('andrewmvd/isic-2019', path='Project_Datasets/', unzip=True)"
   ],
   "metadata": {
    "collapsed": false
   },
   "id": "b25d73ae908a16a7"
  },
  {
   "cell_type": "code",
   "outputs": [],
   "source": [],
   "metadata": {
    "collapsed": false
   },
   "id": "fdf43883607cec7a"
  }
 ],
 "metadata": {
  "kernelspec": {
   "display_name": "Python 3 (ipykernel)",
   "language": "python",
   "name": "python3"
  },
  "language_info": {
   "codemirror_mode": {
    "name": "ipython",
    "version": 3
   },
   "file_extension": ".py",
   "mimetype": "text/x-python",
   "name": "python",
   "nbconvert_exporter": "python",
   "pygments_lexer": "ipython3",
   "version": "3.11.4"
  }
 },
 "nbformat": 4,
 "nbformat_minor": 5
}
